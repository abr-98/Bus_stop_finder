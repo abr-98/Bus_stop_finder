{
 "cells": [
  {
   "cell_type": "code",
   "execution_count": 1,
   "metadata": {},
   "outputs": [
    {
     "name": "stderr",
     "output_type": "stream",
     "text": [
      "Using TensorFlow backend.\n"
     ]
    }
   ],
   "source": [
    "import numpy as np\n",
    "import pandas as pd\n",
    "import matplotlib.pyplot as plt\n",
    "from numpy import sort\n",
    "from xgboost import XGBClassifier\n",
    "from sklearn.model_selection import train_test_split\n",
    "from sklearn.metrics import accuracy_score\n",
    "from sklearn.feature_selection import SelectFromModel\n",
    "import seaborn as sns\n",
    "from imblearn.over_sampling import SMOTE\n",
    "from sklearn.preprocessing import MinMaxScaler\n",
    "from IPython.display import clear_output"
   ]
  },
  {
   "cell_type": "code",
   "execution_count": 2,
   "metadata": {},
   "outputs": [],
   "source": [
    "class myDict:\n",
    "    def __init__(self,d):\n",
    "        self.dic=d\n",
    "    def normalize(self):\n",
    "        a=np.array(list(self.dic.values()))\n",
    "        return myDict(dict(zip(self.dic.keys(),(a-a.min())/a.max())))\n",
    "    def __repr__(self):\n",
    "        return str(self.dic)\n",
    "    def __add__(self,other):\n",
    "        return myDict(dict(pd.Series(self.dic)+pd.Series(other.dic)))\n",
    "    def __truediv__(self,val):\n",
    "        return myDict(dict(zip(self.dic.keys(),np.array(list(self.dic.values()))/val)))\n",
    "    def keys(self):\n",
    "        return self.dic.keys()\n",
    "    def values(self):\n",
    "        return self.dic.values()\n",
    "    def get_sorted(self):\n",
    "        a=list(zip(self.dic.keys(),self.dic.values()))\n",
    "        return myDict(dict(sorted(a,key=lambda e:e[1])))\n",
    "    \n",
    "def get_feature_set_for(target_column):\n",
    "    df=pd.read_csv(\"features_embedded.csv\")\n",
    "    df['norm_road']=df[['Signal', 'bus_stop', 'Turn','Congestion']].apply(lambda e: 1 if e[0]==e[1]==e[2]==e[3]==0 else 0,axis=1)\n",
    "\n",
    "    labels=df[[target_column]].values\n",
    "    features=df.drop(columns=['norm_road','Signal', 'bus_stop', 'Turn','Congestion'])\n",
    "\n",
    "    oversample = SMOTE()\n",
    "    features,labels = oversample.fit_resample(features,labels)\n",
    "    return features,labels"
   ]
  },
  {
   "cell_type": "code",
   "execution_count": 3,
   "metadata": {},
   "outputs": [],
   "source": [
    "def Feature_Importance(target_class,run_cases):\n",
    "    feat_columns=\\\n",
    "    ['next_stop_distance', 'total_waiting_time', 'wifi_count', 'honks',\n",
    "       'rsi', 'zone_highway', 'zone_market_place', 'zone_normal_city',\n",
    "       'time_level_1', 'time_level_2', 'time_level_3', 'time_level_4',\n",
    "       'Population_density_dense', 'Population_density_medium',\n",
    "       'Population_density_sparse', 'Weekend/day_Week-day',\n",
    "       'Weekend/day_Week-end']\n",
    "    \n",
    "    Sum=myDict(dict(zip(feat_columns,[0]*17))) #zero_initilization\n",
    "\n",
    "    for _ in range(run_cases):\n",
    "        X,y=get_feature_set_for(target_class)\n",
    "        X_train, X_test, y_train, y_test = train_test_split(X, y, test_size=0.33, random_state=7)\n",
    "\n",
    "        s=MinMaxScaler()\n",
    "        X_train=s.fit_transform(X_train)\n",
    "        X_test=s.transform(X_test)\n",
    "        \n",
    "        print('{}: on run {}'.format(target_class,_))\n",
    "        model = XGBClassifier()\n",
    "        model.fit(X_train, y_train)\n",
    "\n",
    "        Sum+=myDict(dict(zip(X.columns,model.feature_importances_)))\n",
    "\n",
    "    avg=Sum/run_cases\n",
    "    avg=avg.get_sorted()\n",
    "\n",
    "    fig=plt.figure(figsize=(10,5))\n",
    "    fig.suptitle(target_class,size=16)\n",
    "    ax=fig.add_subplot(111)\n",
    "    ax.barh(list(avg.keys()),list(avg.values()),color=sns.color_palette('hot_r',17))\n",
    "    ax.set_xlabel('Importance')\n",
    "    plt.close()\n",
    "    \n",
    "    return fig,avg"
   ]
  },
  {
   "cell_type": "code",
   "execution_count": 9,
   "metadata": {
    "scrolled": true
   },
   "outputs": [
    {
     "name": "stdout",
     "output_type": "stream",
     "text": [
      "bus_stop: on run 0\n"
     ]
    },
    {
     "name": "stderr",
     "output_type": "stream",
     "text": [
      "/home/abhijit/.local/lib/python3.6/site-packages/sklearn/utils/validation.py:724: DataConversionWarning: A column-vector y was passed when a 1d array was expected. Please change the shape of y to (n_samples, ), for example using ravel().\n",
      "  y = column_or_1d(y, warn=True)\n"
     ]
    },
    {
     "ename": "AttributeError",
     "evalue": "'numpy.ndarray' object has no attribute 'columns'",
     "output_type": "error",
     "traceback": [
      "\u001b[0;31m---------------------------------------------------------------------------\u001b[0m",
      "\u001b[0;31mAttributeError\u001b[0m                            Traceback (most recent call last)",
      "\u001b[0;32m<ipython-input-9-0394d00f60bb>\u001b[0m in \u001b[0;36m<module>\u001b[0;34m\u001b[0m\n\u001b[0;32m----> 1\u001b[0;31m \u001b[0mfig_bus_stop\u001b[0m\u001b[0;34m,\u001b[0m\u001b[0mbus_stop_fi\u001b[0m\u001b[0;34m=\u001b[0m\u001b[0mFeature_Importance\u001b[0m\u001b[0;34m(\u001b[0m\u001b[0;34m'bus_stop'\u001b[0m\u001b[0;34m,\u001b[0m\u001b[0;36m100\u001b[0m\u001b[0;34m)\u001b[0m\u001b[0;34m\u001b[0m\u001b[0;34m\u001b[0m\u001b[0m\n\u001b[0m\u001b[1;32m      2\u001b[0m \u001b[0mfig_norm_road\u001b[0m\u001b[0;34m,\u001b[0m\u001b[0mnorm_road_fi\u001b[0m\u001b[0;34m=\u001b[0m\u001b[0mFeature_Importance\u001b[0m\u001b[0;34m(\u001b[0m\u001b[0;34m'norm_road'\u001b[0m\u001b[0;34m,\u001b[0m\u001b[0;36m100\u001b[0m\u001b[0;34m)\u001b[0m\u001b[0;34m\u001b[0m\u001b[0;34m\u001b[0m\u001b[0m\n\u001b[1;32m      3\u001b[0m \u001b[0mfig_Signal\u001b[0m\u001b[0;34m,\u001b[0m\u001b[0mSignal_fi\u001b[0m\u001b[0;34m=\u001b[0m\u001b[0mFeature_Importance\u001b[0m\u001b[0;34m(\u001b[0m\u001b[0;34m'Signal'\u001b[0m\u001b[0;34m,\u001b[0m\u001b[0;36m100\u001b[0m\u001b[0;34m)\u001b[0m\u001b[0;34m\u001b[0m\u001b[0;34m\u001b[0m\u001b[0m\n\u001b[1;32m      4\u001b[0m \u001b[0mfig_Turn\u001b[0m\u001b[0;34m,\u001b[0m\u001b[0mTurn_fi\u001b[0m\u001b[0;34m=\u001b[0m\u001b[0mFeature_Importance\u001b[0m\u001b[0;34m(\u001b[0m\u001b[0;34m'Turn'\u001b[0m\u001b[0;34m,\u001b[0m\u001b[0;36m100\u001b[0m\u001b[0;34m)\u001b[0m\u001b[0;34m\u001b[0m\u001b[0;34m\u001b[0m\u001b[0m\n\u001b[1;32m      5\u001b[0m \u001b[0mfig_Congestion\u001b[0m\u001b[0;34m,\u001b[0m\u001b[0mCongestion_fi\u001b[0m\u001b[0;34m=\u001b[0m\u001b[0mFeature_Importance\u001b[0m\u001b[0;34m(\u001b[0m\u001b[0;34m'Congestion'\u001b[0m\u001b[0;34m,\u001b[0m\u001b[0;36m100\u001b[0m\u001b[0;34m)\u001b[0m\u001b[0;34m\u001b[0m\u001b[0;34m\u001b[0m\u001b[0m\n",
      "\u001b[0;32m<ipython-input-3-d88f29f11ab0>\u001b[0m in \u001b[0;36mFeature_Importance\u001b[0;34m(target_class, run_cases)\u001b[0m\n\u001b[1;32m     22\u001b[0m         \u001b[0mmodel\u001b[0m\u001b[0;34m.\u001b[0m\u001b[0mfit\u001b[0m\u001b[0;34m(\u001b[0m\u001b[0mX_train\u001b[0m\u001b[0;34m,\u001b[0m \u001b[0my_train\u001b[0m\u001b[0;34m)\u001b[0m\u001b[0;34m\u001b[0m\u001b[0;34m\u001b[0m\u001b[0m\n\u001b[1;32m     23\u001b[0m \u001b[0;34m\u001b[0m\u001b[0m\n\u001b[0;32m---> 24\u001b[0;31m         \u001b[0mSum\u001b[0m\u001b[0;34m+=\u001b[0m\u001b[0mmyDict\u001b[0m\u001b[0;34m(\u001b[0m\u001b[0mdict\u001b[0m\u001b[0;34m(\u001b[0m\u001b[0mzip\u001b[0m\u001b[0;34m(\u001b[0m\u001b[0mX\u001b[0m\u001b[0;34m.\u001b[0m\u001b[0mcolumns\u001b[0m\u001b[0;34m,\u001b[0m\u001b[0mmodel\u001b[0m\u001b[0;34m.\u001b[0m\u001b[0mfeature_importances_\u001b[0m\u001b[0;34m)\u001b[0m\u001b[0;34m)\u001b[0m\u001b[0;34m)\u001b[0m\u001b[0;34m\u001b[0m\u001b[0;34m\u001b[0m\u001b[0m\n\u001b[0m\u001b[1;32m     25\u001b[0m \u001b[0;34m\u001b[0m\u001b[0m\n\u001b[1;32m     26\u001b[0m     \u001b[0mavg\u001b[0m\u001b[0;34m=\u001b[0m\u001b[0mSum\u001b[0m\u001b[0;34m/\u001b[0m\u001b[0mrun_cases\u001b[0m\u001b[0;34m\u001b[0m\u001b[0;34m\u001b[0m\u001b[0m\n",
      "\u001b[0;31mAttributeError\u001b[0m: 'numpy.ndarray' object has no attribute 'columns'"
     ]
    }
   ],
   "source": [
    "fig_bus_stop,bus_stop_fi=Feature_Importance('bus_stop',100)\n",
    "fig_norm_road,norm_road_fi=Feature_Importance('norm_road',100)\n",
    "fig_Signal,Signal_fi=Feature_Importance('Signal',100)\n",
    "fig_Turn,Turn_fi=Feature_Importance('Turn',100)\n",
    "fig_Congestion,Congestion_fi=Feature_Importance('Congestion',100)\n",
    "clear_output()"
   ]
  },
  {
   "cell_type": "markdown",
   "metadata": {},
   "source": [
    "# Feature Importance individual"
   ]
  },
  {
   "cell_type": "code",
   "execution_count": 6,
   "metadata": {},
   "outputs": [
    {
     "ename": "NameError",
     "evalue": "name 'fig_bus_stop' is not defined",
     "output_type": "error",
     "traceback": [
      "\u001b[0;31m---------------------------------------------------------------------------\u001b[0m",
      "\u001b[0;31mNameError\u001b[0m                                 Traceback (most recent call last)",
      "\u001b[0;32m<ipython-input-6-72858453fecb>\u001b[0m in \u001b[0;36m<module>\u001b[0;34m\u001b[0m\n\u001b[0;32m----> 1\u001b[0;31m \u001b[0mfig_bus_stop\u001b[0m\u001b[0;34m\u001b[0m\u001b[0;34m\u001b[0m\u001b[0m\n\u001b[0m",
      "\u001b[0;31mNameError\u001b[0m: name 'fig_bus_stop' is not defined"
     ]
    }
   ],
   "source": [
    "fig_bus_stop"
   ]
  },
  {
   "cell_type": "code",
   "execution_count": null,
   "metadata": {},
   "outputs": [],
   "source": [
    "fig_norm_road"
   ]
  },
  {
   "cell_type": "code",
   "execution_count": null,
   "metadata": {},
   "outputs": [],
   "source": [
    "fig_Signal"
   ]
  },
  {
   "cell_type": "code",
   "execution_count": null,
   "metadata": {},
   "outputs": [],
   "source": [
    "fig_Turn"
   ]
  },
  {
   "cell_type": "code",
   "execution_count": null,
   "metadata": {
    "scrolled": false
   },
   "outputs": [],
   "source": [
    "fig_Congestion"
   ]
  },
  {
   "cell_type": "markdown",
   "metadata": {},
   "source": [
    "# Average Feature Importance"
   ]
  },
  {
   "cell_type": "code",
   "execution_count": 8,
   "metadata": {},
   "outputs": [
    {
     "ename": "NameError",
     "evalue": "name 'bus_stop_fi' is not defined",
     "output_type": "error",
     "traceback": [
      "\u001b[0;31m---------------------------------------------------------------------------\u001b[0m",
      "\u001b[0;31mNameError\u001b[0m                                 Traceback (most recent call last)",
      "\u001b[0;32m<ipython-input-8-3d59d7f6e36f>\u001b[0m in \u001b[0;36m<module>\u001b[0;34m\u001b[0m\n\u001b[1;32m      3\u001b[0m \u001b[0mnorm_road_fi\u001b[0m\u001b[0;34m.\u001b[0m\u001b[0mnormalize\u001b[0m\u001b[0;34m(\u001b[0m\u001b[0;34m)\u001b[0m\u001b[0;34m+\u001b[0m\u001b[0;31m\\\u001b[0m\u001b[0;34m\u001b[0m\u001b[0;34m\u001b[0m\u001b[0m\n\u001b[1;32m      4\u001b[0m \u001b[0mSignal_fi\u001b[0m\u001b[0;34m.\u001b[0m\u001b[0mnormalize\u001b[0m\u001b[0;34m(\u001b[0m\u001b[0;34m)\u001b[0m\u001b[0;34m+\u001b[0m\u001b[0;31m\\\u001b[0m\u001b[0;34m\u001b[0m\u001b[0;34m\u001b[0m\u001b[0m\n\u001b[0;32m----> 5\u001b[0;31m \u001b[0mTurn_fi\u001b[0m\u001b[0;34m.\u001b[0m\u001b[0mnormalize\u001b[0m\u001b[0;34m(\u001b[0m\u001b[0;34m)\u001b[0m\u001b[0;34m+\u001b[0m\u001b[0;31m\\\u001b[0m\u001b[0;34m\u001b[0m\u001b[0;34m\u001b[0m\u001b[0m\n\u001b[0m\u001b[1;32m      6\u001b[0m Congestion_fi.normalize())/5).get_sorted()\n",
      "\u001b[0;31mNameError\u001b[0m: name 'bus_stop_fi' is not defined"
     ]
    }
   ],
   "source": [
    "avg_importance=\\\n",
    "((bus_stop_fi.normalize()+\\\n",
    "norm_road_fi.normalize()+\\\n",
    "Signal_fi.normalize()+\\\n",
    "Turn_fi.normalize()+\\\n",
    "Congestion_fi.normalize())/5).get_sorted()"
   ]
  },
  {
   "cell_type": "code",
   "execution_count": null,
   "metadata": {},
   "outputs": [],
   "source": [
    "fig=plt.figure(figsize=(7,5))\n",
    "fig.suptitle('AVG',size=16)\n",
    "ax=fig.add_subplot(111)\n",
    "ax.barh(list(avg_importance.keys()),list(avg_importance.values()),color=sns.color_palette('hot_r',17))\n",
    "plt.show()"
   ]
  },
  {
   "cell_type": "code",
   "execution_count": null,
   "metadata": {},
   "outputs": [],
   "source": [
    "#DONE"
   ]
  },
  {
   "cell_type": "code",
   "execution_count": 7,
   "metadata": {},
   "outputs": [
    {
     "ename": "NameError",
     "evalue": "name 'avg_importance' is not defined",
     "output_type": "error",
     "traceback": [
      "\u001b[0;31m---------------------------------------------------------------------------\u001b[0m",
      "\u001b[0;31mNameError\u001b[0m                                 Traceback (most recent call last)",
      "\u001b[0;32m<ipython-input-7-f085a434556e>\u001b[0m in \u001b[0;36m<module>\u001b[0;34m\u001b[0m\n\u001b[0;32m----> 1\u001b[0;31m \u001b[0;32mdef\u001b[0m \u001b[0mcheck_feature_accuracy\u001b[0m\u001b[0;34m(\u001b[0m\u001b[0mtarget_class\u001b[0m\u001b[0;34m,\u001b[0m\u001b[0mimportance_dict\u001b[0m\u001b[0;34m=\u001b[0m\u001b[0mavg_importance\u001b[0m\u001b[0;34m)\u001b[0m\u001b[0;34m:\u001b[0m\u001b[0;34m\u001b[0m\u001b[0;34m\u001b[0m\u001b[0m\n\u001b[0m\u001b[1;32m      2\u001b[0m     \u001b[0macc_mean_l\u001b[0m\u001b[0;34m=\u001b[0m\u001b[0;34m[\u001b[0m\u001b[0;34m]\u001b[0m\u001b[0;34m\u001b[0m\u001b[0;34m\u001b[0m\u001b[0m\n\u001b[1;32m      3\u001b[0m     \u001b[0macc_std_l\u001b[0m\u001b[0;34m=\u001b[0m\u001b[0;34m[\u001b[0m\u001b[0;34m]\u001b[0m\u001b[0;34m\u001b[0m\u001b[0;34m\u001b[0m\u001b[0m\n\u001b[1;32m      4\u001b[0m \u001b[0;34m\u001b[0m\u001b[0m\n\u001b[1;32m      5\u001b[0m     \u001b[0;32mfor\u001b[0m \u001b[0mfeat\u001b[0m \u001b[0;32min\u001b[0m \u001b[0mrange\u001b[0m\u001b[0;34m(\u001b[0m\u001b[0;36m1\u001b[0m\u001b[0;34m,\u001b[0m\u001b[0;36m17\u001b[0m\u001b[0;34m+\u001b[0m\u001b[0;36m1\u001b[0m\u001b[0;34m)\u001b[0m\u001b[0;34m:\u001b[0m\u001b[0;34m\u001b[0m\u001b[0;34m\u001b[0m\u001b[0m\n",
      "\u001b[0;31mNameError\u001b[0m: name 'avg_importance' is not defined"
     ]
    }
   ],
   "source": [
    "def check_feature_accuracy(target_class,importance_dict=avg_importance):\n",
    "    acc_mean_l=[]\n",
    "    acc_std_l=[]\n",
    "\n",
    "    for feat in range(1,17+1):\n",
    "        acc_l=[]\n",
    "        taken_feat=list(importance_dict.keys())[-feat:]\n",
    "        for _ in range(10):\n",
    "\n",
    "            X,y=get_feature_set_for(target_class)\n",
    "            X_train, X_test, y_train, y_test = train_test_split(X[taken_feat], y, test_size=0.33, random_state=7)\n",
    "\n",
    "            s=MinMaxScaler()\n",
    "            X_train=s.fit_transform(X_train)\n",
    "            X_test=s.transform(X_test)\n",
    "\n",
    "            model = XGBClassifier()\n",
    "            model.fit(X_train, y_train)\n",
    "\n",
    "            acc=(model.predict(X_test)==y_test).mean()\n",
    "            acc_l.append(acc)\n",
    "        acc_mean_l.append(np.mean(acc_l))\n",
    "        acc_std_l.append(np.std(acc_l))\n",
    "\n",
    "    return acc_mean_l,acc_std_l"
   ]
  },
  {
   "cell_type": "markdown",
   "metadata": {},
   "source": [
    "# For Average importance"
   ]
  },
  {
   "cell_type": "code",
   "execution_count": 5,
   "metadata": {},
   "outputs": [
    {
     "ename": "NameError",
     "evalue": "name 'check_feature_accuracy' is not defined",
     "output_type": "error",
     "traceback": [
      "\u001b[0;31m---------------------------------------------------------------------------\u001b[0m",
      "\u001b[0;31mNameError\u001b[0m                                 Traceback (most recent call last)",
      "\u001b[0;32m<ipython-input-5-792c586199ec>\u001b[0m in \u001b[0;36m<module>\u001b[0;34m\u001b[0m\n\u001b[0;32m----> 1\u001b[0;31m \u001b[0mbus_stopacc_mean_l\u001b[0m\u001b[0;34m,\u001b[0m\u001b[0mbus_stopacc_std_l\u001b[0m\u001b[0;34m=\u001b[0m\u001b[0mcheck_feature_accuracy\u001b[0m\u001b[0;34m(\u001b[0m\u001b[0;34m'bus_stop'\u001b[0m\u001b[0;34m)\u001b[0m\u001b[0;34m\u001b[0m\u001b[0;34m\u001b[0m\u001b[0m\n\u001b[0m\u001b[1;32m      2\u001b[0m \u001b[0mnorm_roadacc_mean_l\u001b[0m\u001b[0;34m,\u001b[0m\u001b[0mnorm_roadacc_std_l\u001b[0m\u001b[0;34m=\u001b[0m\u001b[0mcheck_feature_accuracy\u001b[0m\u001b[0;34m(\u001b[0m\u001b[0;34m'norm_road'\u001b[0m\u001b[0;34m)\u001b[0m\u001b[0;34m\u001b[0m\u001b[0;34m\u001b[0m\u001b[0m\n\u001b[1;32m      3\u001b[0m \u001b[0mSignalacc_mean_l\u001b[0m\u001b[0;34m,\u001b[0m\u001b[0mSignalacc_std_l\u001b[0m\u001b[0;34m=\u001b[0m\u001b[0mcheck_feature_accuracy\u001b[0m\u001b[0;34m(\u001b[0m\u001b[0;34m'Signal'\u001b[0m\u001b[0;34m)\u001b[0m\u001b[0;34m\u001b[0m\u001b[0;34m\u001b[0m\u001b[0m\n\u001b[1;32m      4\u001b[0m \u001b[0mTurnacc_mean_l\u001b[0m\u001b[0;34m,\u001b[0m\u001b[0mTurnacc_std_l\u001b[0m\u001b[0;34m=\u001b[0m\u001b[0mcheck_feature_accuracy\u001b[0m\u001b[0;34m(\u001b[0m\u001b[0;34m'Turn'\u001b[0m\u001b[0;34m)\u001b[0m\u001b[0;34m\u001b[0m\u001b[0;34m\u001b[0m\u001b[0m\n\u001b[1;32m      5\u001b[0m \u001b[0mCongestionacc_mean_l\u001b[0m\u001b[0;34m,\u001b[0m\u001b[0mCongestionacc_std_l\u001b[0m\u001b[0;34m=\u001b[0m\u001b[0mcheck_feature_accuracy\u001b[0m\u001b[0;34m(\u001b[0m\u001b[0;34m'Congestion'\u001b[0m\u001b[0;34m)\u001b[0m\u001b[0;34m\u001b[0m\u001b[0;34m\u001b[0m\u001b[0m\n",
      "\u001b[0;31mNameError\u001b[0m: name 'check_feature_accuracy' is not defined"
     ]
    }
   ],
   "source": [
    "bus_stopacc_mean_l,bus_stopacc_std_l=check_feature_accuracy('bus_stop')\n",
    "norm_roadacc_mean_l,norm_roadacc_std_l=check_feature_accuracy('norm_road')\n",
    "Signalacc_mean_l,Signalacc_std_l=check_feature_accuracy('Signal')\n",
    "Turnacc_mean_l,Turnacc_std_l=check_feature_accuracy('Turn')\n",
    "Congestionacc_mean_l,Congestionacc_std_l=check_feature_accuracy('Congestion')"
   ]
  },
  {
   "cell_type": "code",
   "execution_count": null,
   "metadata": {},
   "outputs": [],
   "source": [
    "fig=plt.figure(figsize=(10,7))\n",
    "ax=fig.add_subplot(111)\n",
    "ax.errorbar(list(map(str,range(1,17+1))),bus_stopacc_mean_l,yerr=bus_stopacc_std_l,label='bus_stop')\n",
    "ax.errorbar(list(map(str,range(1,17+1))),norm_roadacc_mean_l,yerr=norm_roadacc_std_l,label='norm_road')\n",
    "ax.errorbar(list(map(str,range(1,17+1))),Signalacc_mean_l,yerr=Signalacc_std_l,label='Signal')\n",
    "ax.errorbar(list(map(str,range(1,17+1))),Turnacc_mean_l,yerr=Turnacc_std_l,label='Turn')\n",
    "ax.errorbar(list(map(str,range(1,17+1))),Congestionacc_mean_l,yerr=Congestionacc_std_l,label='Congestion')\n",
    "ax.set_xlabel('High-->Low importance')\n",
    "ax.set_ylabel('Testing_Accuracy')\n",
    "ax.legend(loc='upper left')\n",
    "plt.show()"
   ]
  },
  {
   "cell_type": "code",
   "execution_count": null,
   "metadata": {},
   "outputs": [],
   "source": [
    "taken_list=list(avg_importance.keys())[-13:]"
   ]
  },
  {
   "cell_type": "code",
   "execution_count": 10,
   "metadata": {},
   "outputs": [],
   "source": [
    "all_list=['next_stop_distance', 'total_waiting_time', 'wifi_count', 'honks',\n",
    "'rsi', 'zone_highway', 'zone_market_place', 'zone_normal_city',\n",
    "'time_level_1', 'time_level_2', 'time_level_3', 'time_level_4',\n",
    "'Population_density_dense', 'Population_density_medium',\n",
    "'Population_density_sparse', 'Weekend/day_Week-day',\n",
    "'Weekend/day_Week-end']"
   ]
  },
  {
   "cell_type": "code",
   "execution_count": null,
   "metadata": {},
   "outputs": [],
   "source": [
    "def get_feature_number(taken_list):\n",
    "    l=[]\n",
    "    for n in taken_list:\n",
    "        l.append(all_list.index(n))\n",
    "    return l"
   ]
  },
  {
   "cell_type": "code",
   "execution_count": null,
   "metadata": {},
   "outputs": [],
   "source": [
    "get_feature_number(taken_list)"
   ]
  },
  {
   "cell_type": "code",
   "execution_count": null,
   "metadata": {},
   "outputs": [],
   "source": [
    "#NICE"
   ]
  },
  {
   "cell_type": "markdown",
   "metadata": {},
   "source": [
    "# For only bus stop importance"
   ]
  },
  {
   "cell_type": "code",
   "execution_count": null,
   "metadata": {},
   "outputs": [],
   "source": [
    "bus_stopacc_mean_l_c,bus_stopacc_std_l_c=check_feature_accuracy('bus_stop',bus_stop_fi)"
   ]
  },
  {
   "cell_type": "code",
   "execution_count": null,
   "metadata": {},
   "outputs": [],
   "source": [
    "fig=plt.figure(figsize=(10,7))\n",
    "ax=fig.add_subplot(111)\n",
    "ax.errorbar(list(map(str,range(1,17+1))),bus_stopacc_mean_l_c,yerr=bus_stopacc_std_l_c,label='bus_stop')\n",
    "ax.set_xlabel('High-->Low importance')\n",
    "ax.set_ylabel('Testing_Accuracy')\n",
    "ax.legend(loc='upper left')\n",
    "plt.show()"
   ]
  },
  {
   "cell_type": "code",
   "execution_count": null,
   "metadata": {},
   "outputs": [],
   "source": [
    "l=get_feature_number(list(bus_stop_fi.keys())[-11:])"
   ]
  },
  {
   "cell_type": "code",
   "execution_count": null,
   "metadata": {},
   "outputs": [],
   "source": [
    "final=[]\n",
    "for i in l:\n",
    "    final.append(all_list[i])\n",
    "print(final)"
   ]
  },
  {
   "cell_type": "markdown",
   "metadata": {},
   "source": [
    "# For norm_road only"
   ]
  },
  {
   "cell_type": "code",
   "execution_count": null,
   "metadata": {},
   "outputs": [],
   "source": [
    "norm_roadacc_mean_l_c,norm_roadacc_std_l_c=check_feature_accuracy('norm_road',norm_road_fi)"
   ]
  },
  {
   "cell_type": "code",
   "execution_count": null,
   "metadata": {},
   "outputs": [],
   "source": [
    "fig=plt.figure(figsize=(10,7))\n",
    "ax=fig.add_subplot(111)\n",
    "ax.errorbar(list(map(str,range(1,17+1))),norm_roadacc_mean_l_c,yerr=norm_roadacc_std_l_c,label='norm_road')\n",
    "ax.set_xlabel('High-->Low importance')\n",
    "ax.set_ylabel('Testing_Accuracy')\n",
    "ax.legend(loc='upper left')\n",
    "plt.show()"
   ]
  },
  {
   "cell_type": "code",
   "execution_count": null,
   "metadata": {},
   "outputs": [],
   "source": [
    "l=get_feature_number(list(norm_road_fi.keys())[-14:])"
   ]
  },
  {
   "cell_type": "code",
   "execution_count": null,
   "metadata": {},
   "outputs": [],
   "source": [
    "final=[]\n",
    "for i in l:\n",
    "    final.append(all_list[i])\n",
    "print(final)"
   ]
  },
  {
   "cell_type": "markdown",
   "metadata": {},
   "source": [
    "# For Signal only"
   ]
  },
  {
   "cell_type": "code",
   "execution_count": null,
   "metadata": {},
   "outputs": [],
   "source": [
    "Signalacc_mean_l_c,Signalacc_std_l_c=check_feature_accuracy('Signal',Signal_fi)"
   ]
  },
  {
   "cell_type": "code",
   "execution_count": null,
   "metadata": {},
   "outputs": [],
   "source": [
    "fig=plt.figure(figsize=(10,7))\n",
    "ax=fig.add_subplot(111)\n",
    "ax.errorbar(list(map(str,range(1,17+1))),Signalacc_mean_l_c,yerr=Signalacc_std_l_c,label='Signal')\n",
    "ax.set_xlabel('High-->Low importance')\n",
    "ax.set_ylabel('Testing_Accuracy')\n",
    "ax.legend(loc='upper left')\n",
    "plt.show()"
   ]
  },
  {
   "cell_type": "code",
   "execution_count": null,
   "metadata": {},
   "outputs": [],
   "source": [
    "l=get_feature_number(list(Signal_fi.keys())[-17:])"
   ]
  },
  {
   "cell_type": "code",
   "execution_count": 15,
   "metadata": {},
   "outputs": [
    {
     "name": "stdout",
     "output_type": "stream",
     "text": [
      "['Weekend/day_Week-end', 'Population_density_medium', 'time_level_2', 'total_waiting_time', 'time_level_3', 'zone_highway', 'next_stop_distance', 'zone_market_place', 'Population_density_sparse', 'Weekend/day_Week-day', 'zone_normal_city']\n"
     ]
    }
   ],
   "source": [
    "final=[]\n",
    "for i in [16, 13, 9, 1, 10, 5, 0, 6, 14, 15, 7]:\n",
    "    final.append(all_list[i])\n",
    "print(final)"
   ]
  },
  {
   "cell_type": "markdown",
   "metadata": {},
   "source": [
    "# For Turn"
   ]
  },
  {
   "cell_type": "code",
   "execution_count": null,
   "metadata": {},
   "outputs": [],
   "source": [
    "Turnacc_mean_l_c,Turnacc_std_l_c=check_feature_accuracy('Turn',Turn_fi)"
   ]
  },
  {
   "cell_type": "code",
   "execution_count": null,
   "metadata": {},
   "outputs": [],
   "source": [
    "fig=plt.figure(figsize=(10,7))\n",
    "ax=fig.add_subplot(111)\n",
    "ax.errorbar(list(map(str,range(1,17+1))),Turnacc_mean_l_c,yerr=Turnacc_std_l_c,label='Turn')\n",
    "ax.set_xlabel('High-->Low importance')\n",
    "ax.set_ylabel('Testing_Accuracy')\n",
    "ax.legend(loc='upper left')\n",
    "plt.show()"
   ]
  },
  {
   "cell_type": "code",
   "execution_count": null,
   "metadata": {},
   "outputs": [],
   "source": [
    "get_feature_number(list(Turn_fi.keys())[-15:])"
   ]
  },
  {
   "cell_type": "markdown",
   "metadata": {},
   "source": [
    "# For Congestion"
   ]
  },
  {
   "cell_type": "code",
   "execution_count": null,
   "metadata": {},
   "outputs": [],
   "source": [
    "Congestionacc_mean_l_c,Congestionacc_std_l_c=check_feature_accuracy('Congestion',Congestion_fi)"
   ]
  },
  {
   "cell_type": "code",
   "execution_count": null,
   "metadata": {},
   "outputs": [],
   "source": [
    "fig=plt.figure(figsize=(10,7))\n",
    "ax=fig.add_subplot(111)\n",
    "ax.errorbar(list(map(str,range(1,17+1))),Congestionacc_mean_l_c,yerr=Congestionacc_std_l_c,label='Congestion')\n",
    "ax.set_xlabel('High-->Low importance')\n",
    "ax.set_ylabel('Testing_Accuracy')\n",
    "ax.legend(loc='upper left')\n",
    "plt.show()"
   ]
  },
  {
   "cell_type": "code",
   "execution_count": null,
   "metadata": {},
   "outputs": [],
   "source": [
    "l=get_feature_number(list(Congestion_fi.keys())[-14:])"
   ]
  },
  {
   "cell_type": "code",
   "execution_count": 11,
   "metadata": {},
   "outputs": [
    {
     "name": "stdout",
     "output_type": "stream",
     "text": [
      "['next_stop_distance', 'wifi_count', 'time_level_4', 'time_level_1', 'time_level_3', 'time_level_2', 'total_waiting_time', 'Population_density_dense', 'Population_density_medium', 'Weekend/day_Week-end', 'zone_market_place', 'Weekend/day_Week-day', 'zone_highway', 'zone_normal_city']\n"
     ]
    }
   ],
   "source": [
    "final=[]\n",
    "for i in [0, 2, 11, 8, 10, 9, 1, 12, 13, 16, 6, 15, 5, 7]:\n",
    "    final.append(all_list[i])\n",
    "print(final)"
   ]
  },
  {
   "cell_type": "code",
   "execution_count": null,
   "metadata": {},
   "outputs": [],
   "source": []
  }
 ],
 "metadata": {
  "kernelspec": {
   "display_name": "Python 3",
   "language": "python",
   "name": "python3"
  },
  "language_info": {
   "codemirror_mode": {
    "name": "ipython",
    "version": 3
   },
   "file_extension": ".py",
   "mimetype": "text/x-python",
   "name": "python",
   "nbconvert_exporter": "python",
   "pygments_lexer": "ipython3",
   "version": "3.6.9"
  }
 },
 "nbformat": 4,
 "nbformat_minor": 2
}
