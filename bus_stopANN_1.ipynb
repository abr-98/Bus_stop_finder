{
 "cells": [
  {
   "cell_type": "markdown",
   "metadata": {},
   "source": [
    "# Bus-Stop"
   ]
  },
  {
   "cell_type": "code",
   "execution_count": 1,
   "metadata": {},
   "outputs": [],
   "source": [
    "import numpy as np\n",
    "import pandas as pd"
   ]
  },
  {
   "cell_type": "code",
   "execution_count": 2,
   "metadata": {},
   "outputs": [],
   "source": [
    "df=pd.read_csv(\"features_embedded.csv\")\n",
    "\n",
    "df['norm_road']=df[['Signal', 'bus_stop', 'Turn','Congestion']].apply(lambda e: 1 if e[0]==e[1]==e[2]==e[3]==0 else 0,axis=1)"
   ]
  },
  {
   "cell_type": "code",
   "execution_count": 3,
   "metadata": {},
   "outputs": [],
   "source": [
    "labels=df[['norm_road','Signal', 'Turn','bus_stop','Congestion']].values\n",
    "features=df.drop(columns=['norm_road','Signal', 'bus_stop', 'Turn','Congestion'])"
   ]
  },
  {
   "cell_type": "code",
   "execution_count": 4,
   "metadata": {},
   "outputs": [],
   "source": [
    "from sklearn.model_selection import train_test_split\n",
    "from sklearn.preprocessing import MinMaxScaler\n",
    "s=MinMaxScaler()"
   ]
  },
  {
   "cell_type": "code",
   "execution_count": 5,
   "metadata": {},
   "outputs": [],
   "source": [
    "X_train, X_test, y_train, y_test = train_test_split(features, labels, test_size=0.33, random_state=42)"
   ]
  },
  {
   "cell_type": "code",
   "execution_count": 6,
   "metadata": {},
   "outputs": [],
   "source": [
    "X_train=s.fit_transform(X_train)\n",
    "X_test=s.transform(X_test)"
   ]
  },
  {
   "cell_type": "code",
   "execution_count": 7,
   "metadata": {},
   "outputs": [],
   "source": [
    "#[X_test.time_level_1==1]"
   ]
  },
  {
   "cell_type": "markdown",
   "metadata": {},
   "source": [
    "# Modelling"
   ]
  },
  {
   "cell_type": "code",
   "execution_count": 8,
   "metadata": {},
   "outputs": [],
   "source": [
    "import tensorflow as tf"
   ]
  },
  {
   "cell_type": "code",
   "execution_count": 9,
   "metadata": {},
   "outputs": [
    {
     "name": "stderr",
     "output_type": "stream",
     "text": [
      "WARNING: Logging before flag parsing goes to stderr.\n",
      "W0331 20:45:32.497479 139919312791360 deprecation.py:323] From <ipython-input-9-fdff314025ee>:3: DatasetV1.make_one_shot_iterator (from tensorflow.python.data.ops.dataset_ops) is deprecated and will be removed in a future version.\n",
      "Instructions for updating:\n",
      "Use `for ... in dataset:` to iterate over a dataset. If using `tf.estimator`, return the `Dataset` object directly from your input function. As a last resort, you can use `tf.compat.v1.data.make_one_shot_iterator(dataset)`.\n"
     ]
    }
   ],
   "source": [
    "#<pre>\n",
    "dataset=tf.data.Dataset.from_tensor_slices((X_train,y_train)).shuffle(1000).repeat(-1).batch(32)\n",
    "next_batch=dataset.make_one_shot_iterator().get_next()\n",
    "#</pre>"
   ]
  },
  {
   "cell_type": "code",
   "execution_count": 10,
   "metadata": {},
   "outputs": [
    {
     "name": "stderr",
     "output_type": "stream",
     "text": [
      "W0331 20:45:32.625055 139919312791360 lazy_loader.py:50] \n",
      "The TensorFlow contrib module will not be included in TensorFlow 2.0.\n",
      "For more information, please see:\n",
      "  * https://github.com/tensorflow/community/blob/master/rfcs/20180907-contrib-sunset.md\n",
      "  * https://github.com/tensorflow/addons\n",
      "  * https://github.com/tensorflow/io (for I/O related ops)\n",
      "If you depend on functionality not listed there, please file an issue.\n",
      "\n",
      "W0331 20:45:37.277282 139919312791360 deprecation.py:323] From /home/abhijit/.local/lib/python3.6/site-packages/tensorflow_core/contrib/layers/python/layers/layers.py:1866: Layer.apply (from tensorflow.python.keras.engine.base_layer) is deprecated and will be removed in a future version.\n",
      "Instructions for updating:\n",
      "Please use `layer.__call__` method instead.\n",
      "W0331 20:45:37.361020 139919312791360 deprecation.py:323] From /home/abhijit/.local/lib/python3.6/site-packages/tensorflow_core/python/ops/nn_impl.py:183: where (from tensorflow.python.ops.array_ops) is deprecated and will be removed in a future version.\n",
      "Instructions for updating:\n",
      "Use tf.where in 2.0, which has the same broadcast rule as np.where\n"
     ]
    }
   ],
   "source": [
    "def Neural_Net(X,hidden,dropout,mode):\n",
    "    \n",
    "    net=tf.contrib.layers.fully_connected(X,hidden,tf.nn.relu)\n",
    "    #net=tf.contrib.layers.dropout(net,keep_prob=1-dropout,is_training=mode)\n",
    "    #net=tf.contrib.layers.batch_norm(net,is_training=mode)\n",
    "    \n",
    "    net=tf.contrib.layers.fully_connected(net,hidden,tf.nn.relu)\n",
    "    #net=tf.contrib.layers.dropout(net,keep_prob=1-dropout,is_training=mode)\n",
    "    #net=tf.contrib.layers.batch_norm(net,is_training=mode)\n",
    "\n",
    "    net=tf.contrib.layers.fully_connected(net,hidden,tf.nn.relu)\n",
    "    #net=tf.contrib.layers.dropout(net,keep_prob=1-dropout,is_training=mode)\n",
    "    #net=tf.contrib.layers.batch_norm(net,is_training=mode)\n",
    "    \n",
    "    net=tf.contrib.layers.fully_connected(net,hidden,tf.nn.relu)\n",
    "    #net=tf.contrib.layers.dropout(net,keep_prob=1-dropout,is_training=mode)\n",
    "    #net=tf.contrib.layers.batch_norm(net,is_training=mode)\n",
    "\n",
    "    logits=tf.contrib.layers.fully_connected(net,5,None)\n",
    "    y_pred_class=tf.round(tf.nn.sigmoid(logits))\n",
    "    return logits,y_pred_class\n",
    "\n",
    "\n",
    "\n",
    "X=tf.placeholder(tf.float32,[None,17])\n",
    "Y=tf.placeholder(tf.float32,[None,5])\n",
    "mode=tf.placeholder(tf.bool)\n",
    "\n",
    "logits,y_pred_class=Neural_Net(X,128,0.5,mode)\n",
    "\n",
    "accuracy=tf.reduce_mean(tf.cast(tf.equal(y_pred_class,Y),tf.float32))\n",
    "loss=tf.nn.sigmoid_cross_entropy_with_logits(labels=Y,logits=logits)+\\\n",
    "     (0.01/64)*tf.reduce_sum(list(map(tf.reduce_sum,map(tf.square,tf.trainable_variables()))))\n",
    "optimizer=tf.train.AdamOptimizer().minimize(loss)"
   ]
  },
  {
   "cell_type": "code",
   "execution_count": 11,
   "metadata": {},
   "outputs": [],
   "source": [
    "sess=tf.Session()\n",
    "init=tf.global_variables_initializer()\n",
    "sess.run(init)"
   ]
  },
  {
   "cell_type": "code",
   "execution_count": 12,
   "metadata": {},
   "outputs": [],
   "source": [
    "#saver=tf.train.Saver()\n",
    "#saver.save(sess,\"./saved_models/my_model.ckpt\")\n",
    "#saver.restore(sess,\"./saved_models/my_model.ckpt\")"
   ]
  },
  {
   "cell_type": "code",
   "execution_count": 13,
   "metadata": {
    "scrolled": true
   },
   "outputs": [
    {
     "name": "stdout",
     "output_type": "stream",
     "text": [
      "ON STEP 0 ACC 0.512499988079071\n",
      "ON STEP 100 ACC 0.793749988079071\n",
      "ON STEP 200 ACC 0.768750011920929\n",
      "ON STEP 300 ACC 0.762499988079071\n",
      "ON STEP 400 ACC 0.7437499761581421\n",
      "ON STEP 500 ACC 0.7437499761581421\n",
      "ON STEP 600 ACC 0.7749999761581421\n",
      "ON STEP 700 ACC 0.7749999761581421\n",
      "ON STEP 800 ACC 0.762499988079071\n",
      "ON STEP 900 ACC 0.7562500238418579\n",
      "ON STEP 1000 ACC 0.7749999761581421\n",
      "ON STEP 1100 ACC 0.75\n",
      "ON STEP 1200 ACC 0.793749988079071\n",
      "ON STEP 1300 ACC 0.7875000238418579\n",
      "ON STEP 1400 ACC 0.737500011920929\n",
      "ON STEP 1500 ACC 0.7875000238418579\n",
      "ON STEP 1600 ACC 0.8062499761581421\n",
      "ON STEP 1700 ACC 0.8062499761581421\n",
      "ON STEP 1800 ACC 0.78125\n",
      "ON STEP 1900 ACC 0.762499988079071\n",
      "ON STEP 2000 ACC 0.8187500238418579\n",
      "ON STEP 2100 ACC 0.84375\n",
      "ON STEP 2200 ACC 0.8125\n",
      "ON STEP 2300 ACC 0.768750011920929\n",
      "ON STEP 2400 ACC 0.8187500238418579\n",
      "ON STEP 2500 ACC 0.7875000238418579\n",
      "ON STEP 2600 ACC 0.768750011920929\n",
      "ON STEP 2700 ACC 0.762499988079071\n",
      "ON STEP 2800 ACC 0.793749988079071\n",
      "ON STEP 2900 ACC 0.7875000238418579\n",
      "ON STEP 3000 ACC 0.8125\n",
      "ON STEP 3100 ACC 0.84375\n",
      "ON STEP 3200 ACC 0.824999988079071\n",
      "ON STEP 3300 ACC 0.706250011920929\n",
      "ON STEP 3400 ACC 0.768750011920929\n",
      "ON STEP 3500 ACC 0.8187500238418579\n",
      "ON STEP 3600 ACC 0.8125\n",
      "ON STEP 3700 ACC 0.800000011920929\n",
      "ON STEP 3800 ACC 0.8062499761581421\n",
      "ON STEP 3900 ACC 0.800000011920929\n",
      "ON STEP 4000 ACC 0.831250011920929\n",
      "ON STEP 4100 ACC 0.8187500238418579\n",
      "ON STEP 4200 ACC 0.8062499761581421\n",
      "ON STEP 4300 ACC 0.856249988079071\n",
      "ON STEP 4400 ACC 0.7562500238418579\n",
      "ON STEP 4500 ACC 0.8500000238418579\n",
      "ON STEP 4600 ACC 0.768750011920929\n",
      "ON STEP 4700 ACC 0.793749988079071\n",
      "ON STEP 4800 ACC 0.862500011920929\n",
      "ON STEP 4900 ACC 0.800000011920929\n",
      "ON STEP 5000 ACC 0.8187500238418579\n",
      "ON STEP 5100 ACC 0.856249988079071\n",
      "ON STEP 5200 ACC 0.8374999761581421\n",
      "ON STEP 5300 ACC 0.8687499761581421\n",
      "ON STEP 5400 ACC 0.78125\n",
      "ON STEP 5500 ACC 0.8062499761581421\n",
      "ON STEP 5600 ACC 0.8125\n",
      "ON STEP 5700 ACC 0.831250011920929\n",
      "ON STEP 5800 ACC 0.8500000238418579\n",
      "ON STEP 5900 ACC 0.8500000238418579\n",
      "ON STEP 6000 ACC 0.856249988079071\n",
      "ON STEP 6100 ACC 0.84375\n",
      "ON STEP 6200 ACC 0.831250011920929\n",
      "ON STEP 6300 ACC 0.8500000238418579\n",
      "ON STEP 6400 ACC 0.8500000238418579\n",
      "ON STEP 6500 ACC 0.8500000238418579\n",
      "ON STEP 6600 ACC 0.831250011920929\n",
      "ON STEP 6700 ACC 0.8187500238418579\n",
      "ON STEP 6800 ACC 0.8374999761581421\n",
      "ON STEP 6900 ACC 0.8374999761581421\n",
      "ON STEP 7000 ACC 0.856249988079071\n",
      "ON STEP 7100 ACC 0.7437499761581421\n",
      "ON STEP 7200 ACC 0.893750011920929\n",
      "ON STEP 7300 ACC 0.793749988079071\n",
      "ON STEP 7400 ACC 0.90625\n",
      "ON STEP 7500 ACC 0.8500000238418579\n",
      "ON STEP 7600 ACC 0.84375\n",
      "ON STEP 7700 ACC 0.893750011920929\n",
      "ON STEP 7800 ACC 0.8687499761581421\n",
      "ON STEP 7900 ACC 0.862500011920929\n",
      "ON STEP 8000 ACC 0.8125\n",
      "ON STEP 8100 ACC 0.90625\n",
      "ON STEP 8200 ACC 0.90625\n",
      "ON STEP 8300 ACC 0.8500000238418579\n",
      "ON STEP 8400 ACC 0.78125\n",
      "ON STEP 8500 ACC 0.8812500238418579\n",
      "ON STEP 8600 ACC 0.887499988079071\n",
      "ON STEP 8700 ACC 0.8999999761581421\n",
      "ON STEP 8800 ACC 0.887499988079071\n",
      "ON STEP 8900 ACC 0.8374999761581421\n",
      "ON STEP 9000 ACC 0.875\n",
      "ON STEP 9100 ACC 0.8500000238418579\n",
      "ON STEP 9200 ACC 0.862500011920929\n",
      "ON STEP 9300 ACC 0.9125000238418579\n",
      "ON STEP 9400 ACC 0.8812500238418579\n",
      "ON STEP 9500 ACC 0.8999999761581421\n",
      "ON STEP 9600 ACC 0.8999999761581421\n",
      "ON STEP 9700 ACC 0.875\n",
      "ON STEP 9800 ACC 0.84375\n",
      "ON STEP 9900 ACC 0.84375\n",
      "ON STEP 10000 ACC 0.893750011920929\n",
      "ON STEP 10100 ACC 0.8500000238418579\n",
      "ON STEP 10200 ACC 0.887499988079071\n",
      "ON STEP 10300 ACC 0.8999999761581421\n",
      "ON STEP 10400 ACC 0.8687499761581421\n",
      "ON STEP 10500 ACC 0.831250011920929\n",
      "ON STEP 10600 ACC 0.8687499761581421\n",
      "ON STEP 10700 ACC 0.90625\n",
      "ON STEP 10800 ACC 0.862500011920929\n",
      "ON STEP 10900 ACC 0.875\n",
      "ON STEP 11000 ACC 0.893750011920929\n",
      "ON STEP 11100 ACC 0.893750011920929\n",
      "ON STEP 11200 ACC 0.90625\n",
      "ON STEP 11300 ACC 0.887499988079071\n",
      "ON STEP 11400 ACC 0.8812500238418579\n",
      "ON STEP 11500 ACC 0.8999999761581421\n",
      "ON STEP 11600 ACC 0.956250011920929\n",
      "ON STEP 11700 ACC 0.90625\n",
      "ON STEP 11800 ACC 0.8812500238418579\n",
      "ON STEP 11900 ACC 0.8812500238418579\n",
      "ON STEP 12000 ACC 0.8687499761581421\n",
      "ON STEP 12100 ACC 0.9125000238418579\n",
      "ON STEP 12200 ACC 0.8999999761581421\n",
      "ON STEP 12300 ACC 0.8999999761581421\n",
      "ON STEP 12400 ACC 0.893750011920929\n",
      "ON STEP 12500 ACC 0.893750011920929\n",
      "ON STEP 12600 ACC 0.90625\n",
      "ON STEP 12700 ACC 0.831250011920929\n",
      "ON STEP 12800 ACC 0.893750011920929\n",
      "ON STEP 12900 ACC 0.893750011920929\n",
      "ON STEP 13000 ACC 0.9312499761581421\n",
      "ON STEP 13100 ACC 0.8374999761581421\n",
      "ON STEP 13200 ACC 0.9125000238418579\n",
      "ON STEP 13300 ACC 0.887499988079071\n",
      "ON STEP 13400 ACC 0.8999999761581421\n",
      "ON STEP 13500 ACC 0.8999999761581421\n",
      "ON STEP 13600 ACC 0.8999999761581421\n",
      "ON STEP 13700 ACC 0.90625\n",
      "ON STEP 13800 ACC 0.918749988079071\n",
      "ON STEP 13900 ACC 0.893750011920929\n",
      "ON STEP 14000 ACC 0.9312499761581421\n",
      "ON STEP 14100 ACC 0.90625\n",
      "ON STEP 14200 ACC 0.8812500238418579\n",
      "ON STEP 14300 ACC 0.887499988079071\n",
      "ON STEP 14400 ACC 0.824999988079071\n",
      "ON STEP 14500 ACC 0.9125000238418579\n",
      "ON STEP 14600 ACC 0.893750011920929\n",
      "ON STEP 14700 ACC 0.9312499761581421\n",
      "ON STEP 14800 ACC 0.887499988079071\n",
      "ON STEP 14900 ACC 0.8812500238418579\n",
      "ON STEP 15000 ACC 0.918749988079071\n",
      "ON STEP 15100 ACC 0.9375\n",
      "ON STEP 15200 ACC 0.893750011920929\n",
      "ON STEP 15300 ACC 0.918749988079071\n",
      "ON STEP 15400 ACC 0.893750011920929\n",
      "ON STEP 15500 ACC 0.893750011920929\n",
      "ON STEP 15600 ACC 0.9312499761581421\n",
      "ON STEP 15700 ACC 0.9375\n",
      "ON STEP 15800 ACC 0.9312499761581421\n",
      "ON STEP 15900 ACC 0.918749988079071\n",
      "ON STEP 16000 ACC 0.9312499761581421\n",
      "ON STEP 16100 ACC 0.90625\n",
      "ON STEP 16200 ACC 0.925000011920929\n",
      "ON STEP 16300 ACC 0.90625\n",
      "ON STEP 16400 ACC 0.949999988079071\n",
      "ON STEP 16500 ACC 0.8999999761581421\n",
      "ON STEP 16600 ACC 0.862500011920929\n",
      "ON STEP 16700 ACC 0.9125000238418579\n",
      "ON STEP 16800 ACC 0.949999988079071\n",
      "ON STEP 16900 ACC 0.887499988079071\n",
      "ON STEP 17000 ACC 0.8812500238418579\n",
      "ON STEP 17100 ACC 0.90625\n",
      "ON STEP 17200 ACC 0.8999999761581421\n",
      "ON STEP 17300 ACC 0.887499988079071\n",
      "ON STEP 17400 ACC 0.90625\n",
      "ON STEP 17500 ACC 0.9312499761581421\n",
      "ON STEP 17600 ACC 0.9375\n",
      "ON STEP 17700 ACC 0.956250011920929\n",
      "ON STEP 17800 ACC 0.949999988079071\n",
      "ON STEP 17900 ACC 0.918749988079071\n",
      "ON STEP 18000 ACC 0.9312499761581421\n",
      "ON STEP 18100 ACC 0.9375\n",
      "ON STEP 18200 ACC 0.9375\n",
      "ON STEP 18300 ACC 0.887499988079071\n",
      "ON STEP 18400 ACC 0.887499988079071\n",
      "ON STEP 18500 ACC 0.90625\n",
      "ON STEP 18600 ACC 0.8812500238418579\n",
      "ON STEP 18700 ACC 0.9125000238418579\n",
      "ON STEP 18800 ACC 0.9437500238418579\n",
      "ON STEP 18900 ACC 0.9375\n",
      "ON STEP 19000 ACC 0.925000011920929\n",
      "ON STEP 19100 ACC 0.9125000238418579\n",
      "ON STEP 19200 ACC 0.9125000238418579\n",
      "ON STEP 19300 ACC 0.9437500238418579\n",
      "ON STEP 19400 ACC 0.9312499761581421\n",
      "ON STEP 19500 ACC 0.9624999761581421\n",
      "ON STEP 19600 ACC 0.9312499761581421\n",
      "ON STEP 19700 ACC 0.956250011920929\n",
      "ON STEP 19800 ACC 0.9624999761581421\n",
      "ON STEP 19900 ACC 0.9375\n",
      "ON STEP 20000 ACC 0.956250011920929\n",
      "ON STEP 20100 ACC 0.925000011920929\n",
      "ON STEP 20200 ACC 0.918749988079071\n",
      "ON STEP 20300 ACC 0.8999999761581421\n",
      "ON STEP 20400 ACC 0.949999988079071\n",
      "ON STEP 20500 ACC 0.8999999761581421\n",
      "ON STEP 20600 ACC 0.8999999761581421\n",
      "ON STEP 20700 ACC 0.90625\n",
      "ON STEP 20800 ACC 0.949999988079071\n",
      "ON STEP 20900 ACC 0.9375\n",
      "ON STEP 21000 ACC 0.8999999761581421\n",
      "ON STEP 21100 ACC 0.90625\n",
      "ON STEP 21200 ACC 0.90625\n",
      "ON STEP 21300 ACC 0.918749988079071\n",
      "ON STEP 21400 ACC 0.925000011920929\n",
      "ON STEP 21500 ACC 0.918749988079071\n",
      "ON STEP 21600 ACC 0.956250011920929\n",
      "ON STEP 21700 ACC 0.949999988079071\n",
      "ON STEP 21800 ACC 0.949999988079071\n",
      "ON STEP 21900 ACC 0.9437500238418579\n",
      "ON STEP 22000 ACC 0.8812500238418579\n",
      "ON STEP 22100 ACC 0.8999999761581421\n",
      "ON STEP 22200 ACC 0.90625\n",
      "ON STEP 22300 ACC 0.956250011920929\n",
      "ON STEP 22400 ACC 0.96875\n",
      "ON STEP 22500 ACC 0.9437500238418579\n",
      "ON STEP 22600 ACC 0.90625\n",
      "ON STEP 22700 ACC 0.9125000238418579\n",
      "ON STEP 22800 ACC 0.918749988079071\n",
      "ON STEP 22900 ACC 0.8687499761581421\n",
      "ON STEP 23000 ACC 0.8812500238418579\n",
      "ON STEP 23100 ACC 0.9312499761581421\n",
      "ON STEP 23200 ACC 0.9312499761581421\n",
      "ON STEP 23300 ACC 0.9437500238418579\n",
      "ON STEP 23400 ACC 0.9125000238418579\n",
      "ON STEP 23500 ACC 0.90625\n",
      "ON STEP 23600 ACC 0.9375\n",
      "ON STEP 23700 ACC 0.9437500238418579\n",
      "ON STEP 23800 ACC 0.90625\n",
      "ON STEP 23900 ACC 0.918749988079071\n",
      "ON STEP 24000 ACC 0.90625\n",
      "ON STEP 24100 ACC 0.918749988079071\n",
      "ON STEP 24200 ACC 0.9750000238418579\n",
      "ON STEP 24300 ACC 0.981249988079071\n"
     ]
    },
    {
     "name": "stdout",
     "output_type": "stream",
     "text": [
      "ON STEP 24400 ACC 0.90625\n",
      "ON STEP 24500 ACC 0.9375\n",
      "ON STEP 24600 ACC 1.0\n",
      "ON STEP 24700 ACC 0.956250011920929\n",
      "ON STEP 24800 ACC 0.9624999761581421\n",
      "ON STEP 24900 ACC 0.9375\n",
      "ON STEP 25000 ACC 0.9125000238418579\n",
      "ON STEP 25100 ACC 0.9125000238418579\n",
      "ON STEP 25200 ACC 0.9312499761581421\n",
      "ON STEP 25300 ACC 0.9437500238418579\n",
      "ON STEP 25400 ACC 0.918749988079071\n",
      "ON STEP 25500 ACC 0.949999988079071\n",
      "ON STEP 25600 ACC 0.856249988079071\n",
      "ON STEP 25700 ACC 0.9624999761581421\n",
      "ON STEP 25800 ACC 0.90625\n",
      "ON STEP 25900 ACC 0.8999999761581421\n",
      "ON STEP 26000 ACC 0.949999988079071\n",
      "ON STEP 26100 ACC 0.949999988079071\n",
      "ON STEP 26200 ACC 0.9437500238418579\n",
      "ON STEP 26300 ACC 0.9624999761581421\n",
      "ON STEP 26400 ACC 0.9437500238418579\n",
      "ON STEP 26500 ACC 0.987500011920929\n",
      "ON STEP 26600 ACC 0.949999988079071\n",
      "ON STEP 26700 ACC 0.9375\n",
      "ON STEP 26800 ACC 0.9312499761581421\n",
      "ON STEP 26900 ACC 0.96875\n",
      "ON STEP 27000 ACC 0.949999988079071\n",
      "ON STEP 27100 ACC 0.8999999761581421\n",
      "ON STEP 27200 ACC 0.9437500238418579\n",
      "ON STEP 27300 ACC 0.956250011920929\n",
      "ON STEP 27400 ACC 0.9312499761581421\n",
      "ON STEP 27500 ACC 0.9750000238418579\n",
      "ON STEP 27600 ACC 0.918749988079071\n",
      "ON STEP 27700 ACC 0.9437500238418579\n",
      "ON STEP 27800 ACC 0.9312499761581421\n",
      "ON STEP 27900 ACC 0.9312499761581421\n",
      "ON STEP 28000 ACC 0.9750000238418579\n",
      "ON STEP 28100 ACC 0.9750000238418579\n",
      "ON STEP 28200 ACC 0.981249988079071\n",
      "ON STEP 28300 ACC 0.9624999761581421\n",
      "ON STEP 28400 ACC 0.9312499761581421\n",
      "ON STEP 28500 ACC 0.9375\n",
      "ON STEP 28600 ACC 0.949999988079071\n",
      "ON STEP 28700 ACC 0.9437500238418579\n",
      "ON STEP 28800 ACC 0.9375\n",
      "ON STEP 28900 ACC 0.9375\n",
      "ON STEP 29000 ACC 0.96875\n",
      "ON STEP 29100 ACC 0.956250011920929\n",
      "ON STEP 29200 ACC 0.925000011920929\n",
      "ON STEP 29300 ACC 0.9312499761581421\n",
      "ON STEP 29400 ACC 0.925000011920929\n",
      "ON STEP 29500 ACC 0.9312499761581421\n",
      "ON STEP 29600 ACC 0.981249988079071\n",
      "ON STEP 29700 ACC 0.956250011920929\n",
      "ON STEP 29800 ACC 0.9624999761581421\n",
      "ON STEP 29900 ACC 0.9312499761581421\n",
      "ON STEP 30000 ACC 0.9437500238418579\n",
      "ON STEP 30100 ACC 0.90625\n",
      "ON STEP 30200 ACC 0.9437500238418579\n",
      "ON STEP 30300 ACC 0.918749988079071\n",
      "ON STEP 30400 ACC 0.96875\n",
      "ON STEP 30500 ACC 0.949999988079071\n",
      "ON STEP 30600 ACC 0.9750000238418579\n",
      "ON STEP 30700 ACC 0.9937499761581421\n",
      "ON STEP 30800 ACC 0.893750011920929\n",
      "ON STEP 30900 ACC 0.9125000238418579\n",
      "ON STEP 31000 ACC 0.9375\n",
      "ON STEP 31100 ACC 0.9312499761581421\n",
      "ON STEP 31200 ACC 0.925000011920929\n",
      "ON STEP 31300 ACC 0.925000011920929\n",
      "ON STEP 31400 ACC 0.96875\n",
      "ON STEP 31500 ACC 0.9750000238418579\n",
      "ON STEP 31600 ACC 0.981249988079071\n",
      "ON STEP 31700 ACC 0.956250011920929\n",
      "ON STEP 31800 ACC 0.925000011920929\n",
      "ON STEP 31900 ACC 0.9437500238418579\n",
      "ON STEP 32000 ACC 0.981249988079071\n",
      "ON STEP 32100 ACC 0.9624999761581421\n",
      "ON STEP 32200 ACC 0.9437500238418579\n",
      "ON STEP 32300 ACC 0.862500011920929\n",
      "ON STEP 32400 ACC 0.96875\n",
      "ON STEP 32500 ACC 0.9375\n",
      "ON STEP 32600 ACC 0.925000011920929\n",
      "ON STEP 32700 ACC 0.9437500238418579\n",
      "ON STEP 32800 ACC 0.925000011920929\n",
      "ON STEP 32900 ACC 0.9375\n",
      "ON STEP 33000 ACC 0.9375\n",
      "ON STEP 33100 ACC 0.9375\n",
      "ON STEP 33200 ACC 0.9750000238418579\n",
      "ON STEP 33300 ACC 0.949999988079071\n",
      "ON STEP 33400 ACC 0.9750000238418579\n",
      "ON STEP 33500 ACC 0.956250011920929\n",
      "ON STEP 33600 ACC 0.8999999761581421\n",
      "ON STEP 33700 ACC 0.96875\n",
      "ON STEP 33800 ACC 0.9750000238418579\n",
      "ON STEP 33900 ACC 0.9312499761581421\n",
      "ON STEP 34000 ACC 0.96875\n",
      "ON STEP 34100 ACC 0.9437500238418579\n",
      "ON STEP 34200 ACC 0.96875\n",
      "ON STEP 34300 ACC 0.96875\n",
      "ON STEP 34400 ACC 0.949999988079071\n",
      "ON STEP 34500 ACC 0.925000011920929\n",
      "ON STEP 34600 ACC 0.9437500238418579\n",
      "ON STEP 34700 ACC 0.9750000238418579\n",
      "ON STEP 34800 ACC 0.918749988079071\n",
      "ON STEP 34900 ACC 0.956250011920929\n",
      "ON STEP 35000 ACC 0.9375\n",
      "ON STEP 35100 ACC 0.9312499761581421\n",
      "ON STEP 35200 ACC 0.9624999761581421\n",
      "ON STEP 35300 ACC 0.9624999761581421\n",
      "ON STEP 35400 ACC 0.987500011920929\n",
      "ON STEP 35500 ACC 0.9624999761581421\n",
      "ON STEP 35600 ACC 0.987500011920929\n",
      "ON STEP 35700 ACC 0.925000011920929\n",
      "ON STEP 35800 ACC 0.9375\n",
      "ON STEP 35900 ACC 0.9437500238418579\n",
      "ON STEP 36000 ACC 0.9312499761581421\n",
      "ON STEP 36100 ACC 0.9750000238418579\n",
      "ON STEP 36200 ACC 0.981249988079071\n",
      "ON STEP 36300 ACC 0.9624999761581421\n",
      "ON STEP 36400 ACC 0.987500011920929\n",
      "ON STEP 36500 ACC 0.981249988079071\n",
      "ON STEP 36600 ACC 0.9312499761581421\n",
      "ON STEP 36700 ACC 0.893750011920929\n",
      "ON STEP 36800 ACC 0.9375\n",
      "ON STEP 36900 ACC 1.0\n",
      "ON STEP 37000 ACC 0.987500011920929\n",
      "ON STEP 37100 ACC 0.956250011920929\n",
      "ON STEP 37200 ACC 0.96875\n",
      "ON STEP 37300 ACC 0.9375\n",
      "ON STEP 37400 ACC 0.949999988079071\n",
      "ON STEP 37500 ACC 0.949999988079071\n",
      "ON STEP 37600 ACC 0.96875\n",
      "ON STEP 37700 ACC 0.8999999761581421\n",
      "ON STEP 37800 ACC 0.918749988079071\n",
      "ON STEP 37900 ACC 0.96875\n",
      "ON STEP 38000 ACC 0.9624999761581421\n",
      "ON STEP 38100 ACC 0.96875\n",
      "ON STEP 38200 ACC 0.9750000238418579\n",
      "ON STEP 38300 ACC 0.96875\n",
      "ON STEP 38400 ACC 0.96875\n",
      "ON STEP 38500 ACC 0.9937499761581421\n",
      "ON STEP 38600 ACC 0.9375\n",
      "ON STEP 38700 ACC 0.949999988079071\n",
      "ON STEP 38800 ACC 0.9624999761581421\n",
      "ON STEP 38900 ACC 0.9437500238418579\n",
      "ON STEP 39000 ACC 0.9312499761581421\n",
      "ON STEP 39100 ACC 0.981249988079071\n",
      "ON STEP 39200 ACC 0.949999988079071\n",
      "ON STEP 39300 ACC 0.9624999761581421\n",
      "ON STEP 39400 ACC 0.9437500238418579\n",
      "ON STEP 39500 ACC 0.949999988079071\n",
      "ON STEP 39600 ACC 0.9375\n",
      "ON STEP 39700 ACC 0.9624999761581421\n",
      "ON STEP 39800 ACC 0.949999988079071\n",
      "ON STEP 39900 ACC 0.956250011920929\n",
      "ON STEP 40000 ACC 0.9375\n",
      "ON STEP 40100 ACC 0.949999988079071\n",
      "ON STEP 40200 ACC 0.949999988079071\n",
      "ON STEP 40300 ACC 0.9312499761581421\n",
      "ON STEP 40400 ACC 0.9437500238418579\n",
      "ON STEP 40500 ACC 0.981249988079071\n",
      "ON STEP 40600 ACC 0.981249988079071\n",
      "ON STEP 40700 ACC 0.9437500238418579\n",
      "ON STEP 40800 ACC 0.987500011920929\n",
      "ON STEP 40900 ACC 0.9375\n",
      "ON STEP 41000 ACC 0.956250011920929\n",
      "ON STEP 41100 ACC 0.987500011920929\n",
      "ON STEP 41200 ACC 0.956250011920929\n",
      "ON STEP 41300 ACC 0.9312499761581421\n",
      "ON STEP 41400 ACC 0.949999988079071\n",
      "ON STEP 41500 ACC 0.9624999761581421\n",
      "ON STEP 41600 ACC 0.9624999761581421\n",
      "ON STEP 41700 ACC 0.9750000238418579\n",
      "ON STEP 41800 ACC 0.9375\n",
      "ON STEP 41900 ACC 0.9624999761581421\n",
      "ON STEP 42000 ACC 0.9437500238418579\n",
      "ON STEP 42100 ACC 0.96875\n",
      "ON STEP 42200 ACC 0.9750000238418579\n",
      "ON STEP 42300 ACC 0.9437500238418579\n",
      "ON STEP 42400 ACC 0.90625\n",
      "ON STEP 42500 ACC 0.9937499761581421\n",
      "ON STEP 42600 ACC 0.987500011920929\n",
      "ON STEP 42700 ACC 0.956250011920929\n",
      "ON STEP 42800 ACC 0.96875\n",
      "ON STEP 42900 ACC 0.956250011920929\n",
      "ON STEP 43000 ACC 0.987500011920929\n",
      "ON STEP 43100 ACC 0.9375\n",
      "ON STEP 43200 ACC 0.9624999761581421\n",
      "ON STEP 43300 ACC 0.9312499761581421\n",
      "ON STEP 43400 ACC 0.949999988079071\n",
      "ON STEP 43500 ACC 0.9750000238418579\n",
      "ON STEP 43600 ACC 0.9437500238418579\n",
      "ON STEP 43700 ACC 0.9937499761581421\n",
      "ON STEP 43800 ACC 0.9624999761581421\n",
      "ON STEP 43900 ACC 0.9312499761581421\n",
      "ON STEP 44000 ACC 0.9375\n",
      "ON STEP 44100 ACC 0.9624999761581421\n",
      "ON STEP 44200 ACC 0.9624999761581421\n",
      "ON STEP 44300 ACC 0.987500011920929\n",
      "ON STEP 44400 ACC 0.96875\n",
      "ON STEP 44500 ACC 0.9437500238418579\n",
      "ON STEP 44600 ACC 0.981249988079071\n",
      "ON STEP 44700 ACC 0.981249988079071\n",
      "ON STEP 44800 ACC 0.987500011920929\n",
      "ON STEP 44900 ACC 0.9375\n",
      "ON STEP 45000 ACC 0.981249988079071\n",
      "ON STEP 45100 ACC 0.9624999761581421\n",
      "ON STEP 45200 ACC 0.949999988079071\n",
      "ON STEP 45300 ACC 0.9312499761581421\n",
      "ON STEP 45400 ACC 0.9437500238418579\n",
      "ON STEP 45500 ACC 0.9750000238418579\n",
      "ON STEP 45600 ACC 0.96875\n",
      "ON STEP 45700 ACC 0.8999999761581421\n",
      "ON STEP 45800 ACC 0.981249988079071\n",
      "ON STEP 45900 ACC 0.949999988079071\n",
      "ON STEP 46000 ACC 0.987500011920929\n",
      "ON STEP 46100 ACC 0.949999988079071\n",
      "ON STEP 46200 ACC 0.925000011920929\n",
      "ON STEP 46300 ACC 0.9624999761581421\n",
      "ON STEP 46400 ACC 0.949999988079071\n",
      "ON STEP 46500 ACC 0.9437500238418579\n",
      "ON STEP 46600 ACC 0.9624999761581421\n",
      "ON STEP 46700 ACC 0.96875\n",
      "ON STEP 46800 ACC 0.9624999761581421\n",
      "ON STEP 46900 ACC 0.9624999761581421\n",
      "ON STEP 47000 ACC 0.9437500238418579\n",
      "ON STEP 47100 ACC 0.956250011920929\n",
      "ON STEP 47200 ACC 0.956250011920929\n",
      "ON STEP 47300 ACC 0.96875\n",
      "ON STEP 47400 ACC 0.96875\n",
      "ON STEP 47500 ACC 0.9375\n",
      "ON STEP 47600 ACC 0.956250011920929\n",
      "ON STEP 47700 ACC 0.956250011920929\n",
      "ON STEP 47800 ACC 0.987500011920929\n",
      "ON STEP 47900 ACC 0.9375\n",
      "ON STEP 48000 ACC 0.9437500238418579\n",
      "ON STEP 48100 ACC 0.9624999761581421\n",
      "ON STEP 48200 ACC 0.956250011920929\n",
      "ON STEP 48300 ACC 0.981249988079071\n",
      "ON STEP 48400 ACC 0.8999999761581421\n",
      "ON STEP 48500 ACC 0.949999988079071\n"
     ]
    },
    {
     "name": "stdout",
     "output_type": "stream",
     "text": [
      "ON STEP 48600 ACC 0.9375\n",
      "ON STEP 48700 ACC 0.949999988079071\n",
      "ON STEP 48800 ACC 0.956250011920929\n",
      "ON STEP 48900 ACC 0.9750000238418579\n",
      "ON STEP 49000 ACC 0.956250011920929\n",
      "ON STEP 49100 ACC 0.9750000238418579\n",
      "ON STEP 49200 ACC 0.9750000238418579\n",
      "ON STEP 49300 ACC 0.9624999761581421\n",
      "ON STEP 49400 ACC 0.956250011920929\n",
      "ON STEP 49500 ACC 0.96875\n",
      "ON STEP 49600 ACC 0.9624999761581421\n",
      "ON STEP 49700 ACC 0.925000011920929\n",
      "ON STEP 49800 ACC 0.981249988079071\n",
      "ON STEP 49900 ACC 0.9624999761581421\n"
     ]
    }
   ],
   "source": [
    "#<pre>\n",
    "steps=1*50000\n",
    "\n",
    "for step in range(steps):\n",
    "    bx,by=sess.run(next_batch)\n",
    "    sess.run(optimizer,feed_dict={X:bx,Y:by,mode:True})\n",
    "    if step%100==0:\n",
    "        acc=sess.run(accuracy,feed_dict={X:bx,Y:by,mode:False})\n",
    "        print(\"ON STEP {} ACC {}\".format(step,acc))\n",
    "        #if acc>0.7650:\n",
    "        #    break\n",
    "#</pre>"
   ]
  },
  {
   "cell_type": "markdown",
   "metadata": {},
   "source": [
    "# Testing"
   ]
  },
  {
   "cell_type": "code",
   "execution_count": 14,
   "metadata": {},
   "outputs": [
    {
     "name": "stdout",
     "output_type": "stream",
     "text": [
      "Overall acc: 0.82446045\n",
      "Normal Road acc: 0.7589928057553957\n",
      "Signal acc: 0.8507194244604317\n",
      "Turn acc: 0.8812949640287769\n",
      "Bus stop acc: 0.7769784172661871\n",
      "Congestion acc: 0.85431654676259\n"
     ]
    }
   ],
   "source": [
    "print(\"Overall acc:\",sess.run(accuracy,feed_dict={X:X_test,Y:y_test,mode:False}))\n",
    "pred=sess.run(y_pred_class,feed_dict={X:X_test,mode:False})\n",
    "\n",
    "print(\"Normal Road acc:\",(pred[:,0]==y_test[:,0]).mean())\n",
    "\n",
    "print(\"Signal acc:\",(pred[:,1]==y_test[:,1]).mean())\n",
    "\n",
    "print(\"Turn acc:\",(pred[:,2]==y_test[:,2]).mean())\n",
    "\n",
    "print(\"Bus stop acc:\",(pred[:,3]==y_test[:,3]).mean())\n",
    "\n",
    "print(\"Congestion acc:\",(pred[:,4]==y_test[:,4]).mean())"
   ]
  },
  {
   "cell_type": "markdown",
   "metadata": {},
   "source": [
    "# Training"
   ]
  },
  {
   "cell_type": "code",
   "execution_count": 15,
   "metadata": {},
   "outputs": [
    {
     "name": "stdout",
     "output_type": "stream",
     "text": [
      "Overall acc: 0.94831264\n",
      "Normal Road acc: 0.9245115452930728\n",
      "Signal acc: 0.9600355239786856\n",
      "Turn acc: 0.9618117229129662\n",
      "Bus stop acc: 0.9458259325044405\n",
      "Congestion acc: 0.9493783303730018\n"
     ]
    }
   ],
   "source": [
    "print(\"Overall acc:\",sess.run(accuracy,feed_dict={X:X_train,Y:y_train,mode:False}))\n",
    "\n",
    "pred=sess.run(y_pred_class,feed_dict={X:X_train,mode:False})\n",
    "\n",
    "print(\"Normal Road acc:\",(pred[:,0]==y_train[:,0]).mean())\n",
    "\n",
    "print(\"Signal acc:\",(pred[:,1]==y_train[:,1]).mean())\n",
    "\n",
    "print(\"Turn acc:\",(pred[:,2]==y_train[:,2]).mean())\n",
    "\n",
    "print(\"Bus stop acc:\",(pred[:,3]==y_train[:,3]).mean())\n",
    "\n",
    "print(\"Congestion acc:\",(pred[:,4]==y_train[:,4]).mean())"
   ]
  },
  {
   "cell_type": "markdown",
   "metadata": {},
   "source": [
    "# Analytics"
   ]
  },
  {
   "cell_type": "code",
   "execution_count": 16,
   "metadata": {},
   "outputs": [],
   "source": [
    "from sklearn.metrics import classification_report,confusion_matrix"
   ]
  },
  {
   "cell_type": "code",
   "execution_count": 17,
   "metadata": {},
   "outputs": [
    {
     "name": "stdout",
     "output_type": "stream",
     "text": [
      "classification report Norm:\n",
      "               precision    recall  f1-score   support\n",
      "\n",
      "           0       0.85      0.78      0.82       383\n",
      "           1       0.60      0.71      0.65       173\n",
      "\n",
      "    accuracy                           0.76       556\n",
      "   macro avg       0.72      0.74      0.73       556\n",
      "weighted avg       0.77      0.76      0.76       556\n",
      "\n",
      "classification report Signal:\n",
      "               precision    recall  f1-score   support\n",
      "\n",
      "           0       0.89      0.92      0.91       442\n",
      "           1       0.66      0.57      0.61       114\n",
      "\n",
      "    accuracy                           0.85       556\n",
      "   macro avg       0.77      0.75      0.76       556\n",
      "weighted avg       0.84      0.85      0.85       556\n",
      "\n",
      "classification report Turn:\n",
      "               precision    recall  f1-score   support\n",
      "\n",
      "           0       0.90      0.96      0.93       466\n",
      "           1       0.71      0.46      0.55        90\n",
      "\n",
      "    accuracy                           0.88       556\n",
      "   macro avg       0.80      0.71      0.74       556\n",
      "weighted avg       0.87      0.88      0.87       556\n",
      "\n",
      "classification report Bus-Stop\n",
      ":               precision    recall  f1-score   support\n",
      "\n",
      "           0       0.81      0.84      0.83       351\n",
      "           1       0.71      0.67      0.69       205\n",
      "\n",
      "    accuracy                           0.78       556\n",
      "   macro avg       0.76      0.76      0.76       556\n",
      "weighted avg       0.78      0.78      0.78       556\n",
      "\n",
      "classification report Congestion\n",
      ":               precision    recall  f1-score   support\n",
      "\n",
      "           0       0.88      0.95      0.91       450\n",
      "           1       0.69      0.43      0.53       106\n",
      "\n",
      "    accuracy                           0.85       556\n",
      "   macro avg       0.78      0.69      0.72       556\n",
      "weighted avg       0.84      0.85      0.84       556\n",
      "\n"
     ]
    }
   ],
   "source": [
    "pred=sess.run(y_pred_class,feed_dict={X:X_test,mode:False})\n",
    "print(\"classification report Norm:\\n\",classification_report(y_test[:,0],pred[:,0]))\n",
    "print(\"classification report Signal:\\n\",classification_report(y_test[:,1],pred[:,1]))\n",
    "print(\"classification report Turn:\\n\",classification_report(y_test[:,2],pred[:,2]))\n",
    "print(\"classification report Bus-Stop\\n:\",classification_report(y_test[:,3],pred[:,3]))\n",
    "print(\"classification report Congestion\\n:\",classification_report(y_test[:,4],pred[:,4]))"
   ]
  },
  {
   "cell_type": "code",
   "execution_count": 18,
   "metadata": {},
   "outputs": [],
   "source": [
    "import seaborn as sns\n",
    "import matplotlib.pyplot as plt"
   ]
  },
  {
   "cell_type": "code",
   "execution_count": 19,
   "metadata": {
    "scrolled": false
   },
   "outputs": [
    {
     "name": "stdout",
     "output_type": "stream",
     "text": [
      "confusion_matrix Norm:\n",
      "\n"
     ]
    },
    {
     "data": {
      "image/png": "[encoded data removed]",
      "text/plain": [
       "<Figure size 432x288 with 2 Axes>"
      ]
     },
     "metadata": {
      "needs_background": "light"
     },
     "output_type": "display_data"
    },
    {
     "name": "stdout",
     "output_type": "stream",
     "text": [
      "confusion_matrix Signal:\n",
      "\n"
     ]
    },
    {
     "data": {
      "image/png": "[encoded data removed]",
      "text/plain": [
       "<Figure size 432x288 with 2 Axes>"
      ]
     },
     "metadata": {
      "needs_background": "light"
     },
     "output_type": "display_data"
    },
    {
     "name": "stdout",
     "output_type": "stream",
     "text": [
      "confusion_matrix Turn:\n",
      "\n"
     ]
    },
    {
     "data": {
      "image/png": "[encoded data removed]",
      "text/plain": [
       "<Figure size 432x288 with 2 Axes>"
      ]
     },
     "metadata": {
      "needs_background": "light"
     },
     "output_type": "display_data"
    },
    {
     "name": "stdout",
     "output_type": "stream",
     "text": [
      "confusion_matrix Bus-Stop\n",
      ":\n"
     ]
    },
    {
     "data": {
      "image/png": "[encoded data removed]",
      "text/plain": [
       "<Figure size 432x288 with 2 Axes>"
      ]
     },
     "metadata": {
      "needs_background": "light"
     },
     "output_type": "display_data"
    },
    {
     "name": "stdout",
     "output_type": "stream",
     "text": [
      "confusion_matrix Congestion\n",
      ":\n"
     ]
    },
    {
     "data": {
      "image/png": "[encoded data removed]",
      "text/plain": [
       "<Figure size 432x288 with 2 Axes>"
      ]
     },
     "metadata": {
      "needs_background": "light"
     },
     "output_type": "display_data"
    }
   ],
   "source": [
    "pred=sess.run(y_pred_class,feed_dict={X:X_test,mode:False})\n",
    "print(\"confusion_matrix Norm:\\n\")\n",
    "_=sns.heatmap(confusion_matrix(y_test[:,0],pred[:,0]),annot=True,fmt='d',annot_kws={\"size\":15,'color':'r'})\n",
    "plt.show()\n",
    "print(\"confusion_matrix Signal:\\n\")\n",
    "_=sns.heatmap(confusion_matrix(y_test[:,1],pred[:,1]),annot=True,fmt='d',annot_kws={\"size\":15,'color':'r'})\n",
    "plt.show()\n",
    "print(\"confusion_matrix Turn:\\n\")\n",
    "_=sns.heatmap(confusion_matrix(y_test[:,2],pred[:,2]),annot=True,fmt='d',annot_kws={\"size\":15,'color':'r'})\n",
    "plt.show()\n",
    "print(\"confusion_matrix Bus-Stop\\n:\")\n",
    "_=sns.heatmap(confusion_matrix(y_test[:,3],pred[:,3]),annot=True,fmt='d',annot_kws={\"size\":15,'color':'r'})\n",
    "plt.show()\n",
    "print(\"confusion_matrix Congestion\\n:\")\n",
    "_=sns.heatmap(confusion_matrix(y_test[:,4],pred[:,4]),annot=True,fmt='d',annot_kws={\"size\":15,'color':'r'})\n",
    "plt.show()"
   ]
  },
  {
   "cell_type": "code",
   "execution_count": 20,
   "metadata": {},
   "outputs": [],
   "source": [
    "#NICE"
   ]
  },
  {
   "cell_type": "markdown",
   "metadata": {},
   "source": [
    "# TIMELEVEL 1"
   ]
  },
  {
   "cell_type": "code",
   "execution_count": 21,
   "metadata": {},
   "outputs": [],
   "source": [
    "df=pd.read_csv(\"features_embedded.csv\")\n",
    "\n",
    "df['norm_road']=df[['Signal', 'bus_stop', 'Turn','Congestion']].apply(lambda e: 1 if e[0]==e[1]==e[2]==e[3]==0 else 0,axis=1)"
   ]
  },
  {
   "cell_type": "code",
   "execution_count": 22,
   "metadata": {},
   "outputs": [],
   "source": [
    "y_test=df[['norm_road','Signal', 'Turn','bus_stop','Congestion']].values\n",
    "X_test=df[['next_stop_distance','total_waiting_time','wifi_count','honks','rsi','zone_highway','zone_market_place','zone_normal_city','time_level_1','time_level_2','time_level_3','time_level_4','Population_density_dense','Population_density_medium','Population_density_sparse','Weekend/day_Week-day','Weekend/day_Week-end']].values"
   ]
  },
  {
   "cell_type": "code",
   "execution_count": 23,
   "metadata": {},
   "outputs": [],
   "source": [
    "ind=['next_stop_distance','total_waiting_time','wifi_count','honks','rsi','zone_highway','zone_market_place','zone_normal_city','time_level_1','time_level_2','time_level_3','time_level_4','Population_density_dense','Population_density_medium','Population_density_sparse','Weekend/day_Week-day','Weekend/day_Week-end']\n"
   ]
  },
  {
   "cell_type": "code",
   "execution_count": 24,
   "metadata": {},
   "outputs": [],
   "source": [
    "ind_y=['norm_road','Signal', 'bus_stop', 'Turn','Congestion']"
   ]
  },
  {
   "cell_type": "code",
   "execution_count": 25,
   "metadata": {},
   "outputs": [],
   "source": [
    "X_test_temp=pd.DataFrame(X_test,columns=ind)"
   ]
  },
  {
   "cell_type": "code",
   "execution_count": 26,
   "metadata": {},
   "outputs": [],
   "source": [
    "Y_test_temp=pd.DataFrame(y_test,columns=ind_y)"
   ]
  },
  {
   "cell_type": "code",
   "execution_count": 27,
   "metadata": {},
   "outputs": [],
   "source": [
    "X_test_temp=pd.concat([Y_test_temp,X_test_temp],axis=1)"
   ]
  },
  {
   "cell_type": "code",
   "execution_count": 28,
   "metadata": {},
   "outputs": [],
   "source": [
    "X_test_temp=X_test_temp[X_test_temp.time_level_1==1]"
   ]
  },
  {
   "cell_type": "code",
   "execution_count": 29,
   "metadata": {},
   "outputs": [
    {
     "data": {
      "text/plain": [
       "(200, 22)"
      ]
     },
     "execution_count": 29,
     "metadata": {},
     "output_type": "execute_result"
    }
   ],
   "source": [
    "X_test_temp.shape"
   ]
  },
  {
   "cell_type": "code",
   "execution_count": 30,
   "metadata": {},
   "outputs": [],
   "source": [
    "#idex=['time_level_1','time_level_2','time_level_3','time_level_4']"
   ]
  },
  {
   "cell_type": "code",
   "execution_count": 31,
   "metadata": {},
   "outputs": [],
   "source": [
    "#X_test_temp=X_test_temp.drop(columns=idex)"
   ]
  },
  {
   "cell_type": "code",
   "execution_count": 32,
   "metadata": {},
   "outputs": [],
   "source": [
    "Y_test=X_test_temp[['norm_road','Signal', 'Turn','bus_stop','Congestion']].values\n",
    "features=X_test_temp.drop(columns=['norm_road','Signal', 'bus_stop', 'Turn','Congestion'])"
   ]
  },
  {
   "cell_type": "code",
   "execution_count": 33,
   "metadata": {},
   "outputs": [],
   "source": [
    "x_test=X_test_temp[ind].values"
   ]
  },
  {
   "cell_type": "code",
   "execution_count": 34,
   "metadata": {},
   "outputs": [],
   "source": [
    "x_test=s.transform(x_test)"
   ]
  },
  {
   "cell_type": "markdown",
   "metadata": {},
   "source": [
    "## TESTING"
   ]
  },
  {
   "cell_type": "code",
   "execution_count": 42,
   "metadata": {},
   "outputs": [
    {
     "name": "stdout",
     "output_type": "stream",
     "text": [
      "Overall acc: 0.739\n",
      "Normal Road acc: 0.845\n",
      "Signal acc: 0.9\n",
      "Turn acc: 0.54\n",
      "Bus stop acc: 0.485\n",
      "Congestion acc: 0.925\n"
     ]
    }
   ],
   "source": [
    "print(\"Overall acc:\",sess.run(accuracy,feed_dict={X:x_test,Y:Y_test,mode:False}))\n",
    "pred=sess.run(y_pred_class,feed_dict={X:x_test,mode:False})\n",
    "\n",
    "print(\"Normal Road acc:\",(pred[:,0]==Y_test[:,0]).mean())\n",
    "\n",
    "print(\"Signal acc:\",(pred[:,1]==Y_test[:,1]).mean())\n",
    "\n",
    "print(\"Turn acc:\",(pred[:,2]==Y_test[:,2]).mean())\n",
    "\n",
    "print(\"Bus stop acc:\",(pred[:,3]==Y_test[:,3]).mean())\n",
    "\n",
    "print(\"Congestion acc:\",(pred[:,4]==Y_test[:,4]).mean())"
   ]
  },
  {
   "cell_type": "markdown",
   "metadata": {},
   "source": [
    "## ANALYSIS"
   ]
  },
  {
   "cell_type": "code",
   "execution_count": 43,
   "metadata": {},
   "outputs": [
    {
     "name": "stdout",
     "output_type": "stream",
     "text": [
      "classification report Norm:\n",
      "               precision    recall  f1-score   support\n",
      "\n",
      "           0       0.86      0.91      0.88       131\n",
      "           1       0.81      0.72      0.76        69\n",
      "\n",
      "    accuracy                           0.84       200\n",
      "   macro avg       0.83      0.82      0.82       200\n",
      "weighted avg       0.84      0.84      0.84       200\n",
      "\n",
      "classification report Signal:\n",
      "               precision    recall  f1-score   support\n",
      "\n",
      "           0       0.91      0.98      0.94       164\n",
      "           1       0.83      0.56      0.67        36\n",
      "\n",
      "    accuracy                           0.90       200\n",
      "   macro avg       0.87      0.77      0.80       200\n",
      "weighted avg       0.90      0.90      0.89       200\n",
      "\n",
      "classification report Turn:\n",
      "               precision    recall  f1-score   support\n",
      "\n",
      "           0       0.58      0.86      0.69       121\n",
      "           1       0.19      0.05      0.08        79\n",
      "\n",
      "    accuracy                           0.54       200\n",
      "   macro avg       0.39      0.46      0.39       200\n",
      "weighted avg       0.43      0.54      0.45       200\n",
      "\n",
      "classification report Bus-Stop\n",
      ":               precision    recall  f1-score   support\n",
      "\n",
      "           0       0.78      0.53      0.63       166\n",
      "           1       0.10      0.26      0.15        34\n",
      "\n",
      "    accuracy                           0.48       200\n",
      "   macro avg       0.44      0.40      0.39       200\n",
      "weighted avg       0.66      0.48      0.55       200\n",
      "\n",
      "classification report Congestion\n",
      ":               precision    recall  f1-score   support\n",
      "\n",
      "           0       0.94      0.97      0.96       174\n",
      "           1       0.76      0.62      0.68        26\n",
      "\n",
      "    accuracy                           0.93       200\n",
      "   macro avg       0.85      0.79      0.82       200\n",
      "weighted avg       0.92      0.93      0.92       200\n",
      "\n"
     ]
    }
   ],
   "source": [
    "pred=sess.run(y_pred_class,feed_dict={X:x_test,mode:False})\n",
    "print(\"classification report Norm:\\n\",classification_report(Y_test[:,0],pred[:,0]))\n",
    "print(\"classification report Signal:\\n\",classification_report(Y_test[:,1],pred[:,1]))\n",
    "print(\"classification report Turn:\\n\",classification_report(Y_test[:,2],pred[:,2]))\n",
    "print(\"classification report Bus-Stop\\n:\",classification_report(Y_test[:,3],pred[:,3]))\n",
    "print(\"classification report Congestion\\n:\",classification_report(Y_test[:,4],pred[:,4]))"
   ]
  },
  {
   "cell_type": "markdown",
   "metadata": {},
   "source": [
    "# TIMELEVEL 2"
   ]
  },
  {
   "cell_type": "code",
   "execution_count": 44,
   "metadata": {},
   "outputs": [],
   "source": [
    "df=pd.read_csv(\"features_embedded.csv\")\n",
    "\n",
    "df['norm_road']=df[['Signal', 'bus_stop', 'Turn','Congestion']].apply(lambda e: 1 if e[0]==e[1]==e[2]==e[3]==0 else 0,axis=1)"
   ]
  },
  {
   "cell_type": "code",
   "execution_count": 45,
   "metadata": {},
   "outputs": [],
   "source": [
    "y_test=df[['norm_road','Signal', 'Turn','bus_stop','Congestion']].values\n",
    "X_test=df[['next_stop_distance','total_waiting_time','wifi_count','honks','rsi','zone_highway','zone_market_place','zone_normal_city','time_level_1','time_level_2','time_level_3','time_level_4','Population_density_dense','Population_density_medium','Population_density_sparse','Weekend/day_Week-day','Weekend/day_Week-end']].values"
   ]
  },
  {
   "cell_type": "code",
   "execution_count": 46,
   "metadata": {},
   "outputs": [],
   "source": [
    "ind=['next_stop_distance','total_waiting_time','wifi_count','honks','rsi','zone_highway','zone_market_place','zone_normal_city','time_level_1','time_level_2','time_level_3','time_level_4','Population_density_dense','Population_density_medium','Population_density_sparse','Weekend/day_Week-day','Weekend/day_Week-end']\n"
   ]
  },
  {
   "cell_type": "code",
   "execution_count": 47,
   "metadata": {},
   "outputs": [],
   "source": [
    "ind_y=['norm_road','Signal', 'bus_stop', 'Turn','Congestion']"
   ]
  },
  {
   "cell_type": "code",
   "execution_count": 48,
   "metadata": {},
   "outputs": [],
   "source": [
    "X_test_temp=pd.DataFrame(X_test,columns=ind)"
   ]
  },
  {
   "cell_type": "code",
   "execution_count": 49,
   "metadata": {},
   "outputs": [],
   "source": [
    "Y_test_temp=pd.DataFrame(y_test,columns=ind_y)"
   ]
  },
  {
   "cell_type": "code",
   "execution_count": 50,
   "metadata": {},
   "outputs": [],
   "source": [
    "X_test_temp=pd.concat([Y_test_temp,X_test_temp],axis=1)"
   ]
  },
  {
   "cell_type": "code",
   "execution_count": 51,
   "metadata": {},
   "outputs": [],
   "source": [
    "X_test_temp=X_test_temp[X_test_temp.time_level_2==1]"
   ]
  },
  {
   "cell_type": "code",
   "execution_count": 52,
   "metadata": {
    "scrolled": true
   },
   "outputs": [
    {
     "data": {
      "text/plain": [
       "(323, 22)"
      ]
     },
     "execution_count": 52,
     "metadata": {},
     "output_type": "execute_result"
    }
   ],
   "source": [
    "X_test_temp.shape"
   ]
  },
  {
   "cell_type": "code",
   "execution_count": 53,
   "metadata": {},
   "outputs": [],
   "source": [
    "Y_test=X_test_temp[['norm_road','Signal', 'Turn','bus_stop','Congestion']].values\n",
    "features=X_test_temp.drop(columns=['norm_road','Signal', 'bus_stop', 'Turn','Congestion'])"
   ]
  },
  {
   "cell_type": "code",
   "execution_count": 54,
   "metadata": {},
   "outputs": [],
   "source": [
    "x_test=X_test_temp[ind].values"
   ]
  },
  {
   "cell_type": "code",
   "execution_count": 55,
   "metadata": {},
   "outputs": [],
   "source": [
    "x_test=s.transform(x_test)"
   ]
  },
  {
   "cell_type": "markdown",
   "metadata": {},
   "source": [
    "## TESTING"
   ]
  },
  {
   "cell_type": "code",
   "execution_count": 56,
   "metadata": {},
   "outputs": [
    {
     "name": "stdout",
     "output_type": "stream",
     "text": [
      "Overall acc: 0.7529412\n",
      "Normal Road acc: 0.8173374613003096\n",
      "Signal acc: 0.8947368421052632\n",
      "Turn acc: 0.5572755417956656\n",
      "Bus stop acc: 0.5975232198142415\n",
      "Congestion acc: 0.8978328173374613\n"
     ]
    }
   ],
   "source": [
    "print(\"Overall acc:\",sess.run(accuracy,feed_dict={X:x_test,Y:Y_test,mode:False}))\n",
    "pred=sess.run(y_pred_class,feed_dict={X:x_test,mode:False})\n",
    "\n",
    "print(\"Normal Road acc:\",(pred[:,0]==Y_test[:,0]).mean())\n",
    "\n",
    "print(\"Signal acc:\",(pred[:,1]==Y_test[:,1]).mean())\n",
    "\n",
    "print(\"Turn acc:\",(pred[:,2]==Y_test[:,2]).mean())\n",
    "\n",
    "print(\"Bus stop acc:\",(pred[:,3]==Y_test[:,3]).mean())\n",
    "\n",
    "print(\"Congestion acc:\",(pred[:,4]==Y_test[:,4]).mean())\n"
   ]
  },
  {
   "cell_type": "markdown",
   "metadata": {},
   "source": [
    "## ANALYSIS"
   ]
  },
  {
   "cell_type": "code",
   "execution_count": 57,
   "metadata": {},
   "outputs": [
    {
     "name": "stdout",
     "output_type": "stream",
     "text": [
      "classification report Norm:\n",
      "               precision    recall  f1-score   support\n",
      "\n",
      "           0       0.92      0.79      0.85       216\n",
      "           1       0.67      0.87      0.76       107\n",
      "\n",
      "    accuracy                           0.82       323\n",
      "   macro avg       0.80      0.83      0.81       323\n",
      "weighted avg       0.84      0.82      0.82       323\n",
      "\n",
      "classification report Signal:\n",
      "               precision    recall  f1-score   support\n",
      "\n",
      "           0       0.94      0.93      0.93       259\n",
      "           1       0.73      0.75      0.74        64\n",
      "\n",
      "    accuracy                           0.89       323\n",
      "   macro avg       0.83      0.84      0.84       323\n",
      "weighted avg       0.90      0.89      0.90       323\n",
      "\n",
      "classification report Turn:\n",
      "               precision    recall  f1-score   support\n",
      "\n",
      "           0       0.60      0.88      0.71       199\n",
      "           1       0.17      0.04      0.07       124\n",
      "\n",
      "    accuracy                           0.56       323\n",
      "   macro avg       0.38      0.46      0.39       323\n",
      "weighted avg       0.43      0.56      0.46       323\n",
      "\n",
      "classification report Bus-Stop\n",
      ":               precision    recall  f1-score   support\n",
      "\n",
      "           0       0.83      0.66      0.74       275\n",
      "           1       0.11      0.25      0.16        48\n",
      "\n",
      "    accuracy                           0.60       323\n",
      "   macro avg       0.47      0.45      0.45       323\n",
      "weighted avg       0.73      0.60      0.65       323\n",
      "\n",
      "classification report Congestion\n",
      ":               precision    recall  f1-score   support\n",
      "\n",
      "           0       0.91      0.98      0.94       264\n",
      "           1       0.84      0.54      0.66        59\n",
      "\n",
      "    accuracy                           0.90       323\n",
      "   macro avg       0.87      0.76      0.80       323\n",
      "weighted avg       0.89      0.90      0.89       323\n",
      "\n"
     ]
    }
   ],
   "source": [
    "pred=sess.run(y_pred_class,feed_dict={X:x_test,mode:False})\n",
    "print(\"classification report Norm:\\n\",classification_report(Y_test[:,0],pred[:,0]))\n",
    "print(\"classification report Signal:\\n\",classification_report(Y_test[:,1],pred[:,1]))\n",
    "print(\"classification report Turn:\\n\",classification_report(Y_test[:,2],pred[:,2]))\n",
    "print(\"classification report Bus-Stop\\n:\",classification_report(Y_test[:,3],pred[:,3]))\n",
    "print(\"classification report Congestion\\n:\",classification_report(Y_test[:,4],pred[:,4]))"
   ]
  },
  {
   "cell_type": "code",
   "execution_count": null,
   "metadata": {},
   "outputs": [],
   "source": []
  },
  {
   "cell_type": "markdown",
   "metadata": {},
   "source": [
    "# TIMELEVEL 3"
   ]
  },
  {
   "cell_type": "code",
   "execution_count": 58,
   "metadata": {},
   "outputs": [],
   "source": [
    "df=pd.read_csv(\"features_embedded.csv\")\n",
    "\n",
    "df['norm_road']=df[['Signal', 'bus_stop', 'Turn','Congestion']].apply(lambda e: 1 if e[0]==e[1]==e[2]==e[3]==0 else 0,axis=1)"
   ]
  },
  {
   "cell_type": "code",
   "execution_count": 59,
   "metadata": {},
   "outputs": [],
   "source": [
    "y_test=df[['norm_road','Signal', 'Turn','bus_stop','Congestion']].values\n",
    "X_test=df[['next_stop_distance','total_waiting_time','wifi_count','honks','rsi','zone_highway','zone_market_place','zone_normal_city','time_level_1','time_level_2','time_level_3','time_level_4','Population_density_dense','Population_density_medium','Population_density_sparse','Weekend/day_Week-day','Weekend/day_Week-end']].values"
   ]
  },
  {
   "cell_type": "code",
   "execution_count": 60,
   "metadata": {},
   "outputs": [],
   "source": [
    "ind=['next_stop_distance','total_waiting_time','wifi_count','honks','rsi','zone_highway','zone_market_place','zone_normal_city','time_level_1','time_level_2','time_level_3','time_level_4','Population_density_dense','Population_density_medium','Population_density_sparse','Weekend/day_Week-day','Weekend/day_Week-end']\n"
   ]
  },
  {
   "cell_type": "code",
   "execution_count": 61,
   "metadata": {},
   "outputs": [],
   "source": [
    "ind_y=['norm_road','Signal', 'bus_stop', 'Turn','Congestion']"
   ]
  },
  {
   "cell_type": "code",
   "execution_count": 62,
   "metadata": {},
   "outputs": [],
   "source": [
    "X_test_temp=pd.DataFrame(X_test,columns=ind)"
   ]
  },
  {
   "cell_type": "code",
   "execution_count": 63,
   "metadata": {},
   "outputs": [],
   "source": [
    "Y_test_temp=pd.DataFrame(y_test,columns=ind_y)"
   ]
  },
  {
   "cell_type": "code",
   "execution_count": 64,
   "metadata": {},
   "outputs": [],
   "source": [
    "X_test_temp=pd.concat([Y_test_temp,X_test_temp],axis=1)"
   ]
  },
  {
   "cell_type": "code",
   "execution_count": 65,
   "metadata": {},
   "outputs": [],
   "source": [
    "X_test_temp=X_test_temp[X_test_temp.time_level_3==1]"
   ]
  },
  {
   "cell_type": "code",
   "execution_count": 66,
   "metadata": {},
   "outputs": [
    {
     "data": {
      "text/plain": [
       "(195, 22)"
      ]
     },
     "execution_count": 66,
     "metadata": {},
     "output_type": "execute_result"
    }
   ],
   "source": [
    "X_test_temp.shape"
   ]
  },
  {
   "cell_type": "code",
   "execution_count": 67,
   "metadata": {},
   "outputs": [],
   "source": [
    "Y_test=X_test_temp[['norm_road','Signal', 'Turn','bus_stop','Congestion']].values\n",
    "features=X_test_temp.drop(columns=['norm_road','Signal', 'bus_stop', 'Turn','Congestion'])"
   ]
  },
  {
   "cell_type": "code",
   "execution_count": 68,
   "metadata": {},
   "outputs": [],
   "source": [
    "x_test=X_test_temp[ind].values"
   ]
  },
  {
   "cell_type": "code",
   "execution_count": 69,
   "metadata": {},
   "outputs": [],
   "source": [
    "x_test=s.transform(x_test)"
   ]
  },
  {
   "cell_type": "markdown",
   "metadata": {},
   "source": [
    "## TESTING"
   ]
  },
  {
   "cell_type": "code",
   "execution_count": 70,
   "metadata": {
    "scrolled": true
   },
   "outputs": [
    {
     "name": "stdout",
     "output_type": "stream",
     "text": [
      "Overall acc: 0.7692308\n",
      "Normal Road acc: 0.8666666666666667\n",
      "Signal acc: 0.9487179487179487\n",
      "Turn acc: 0.5282051282051282\n",
      "Bus stop acc: 0.5435897435897435\n",
      "Congestion acc: 0.958974358974359\n"
     ]
    }
   ],
   "source": [
    "print(\"Overall acc:\",sess.run(accuracy,feed_dict={X:x_test,Y:Y_test,mode:False}))\n",
    "pred=sess.run(y_pred_class,feed_dict={X:x_test,mode:False})\n",
    "\n",
    "print(\"Normal Road acc:\",(pred[:,0]==Y_test[:,0]).mean())\n",
    "\n",
    "print(\"Signal acc:\",(pred[:,1]==Y_test[:,1]).mean())\n",
    "\n",
    "print(\"Turn acc:\",(pred[:,2]==Y_test[:,2]).mean())\n",
    "\n",
    "print(\"Bus stop acc:\",(pred[:,3]==Y_test[:,3]).mean())\n",
    "\n",
    "print(\"Congestion acc:\",(pred[:,4]==Y_test[:,4]).mean())\n",
    "\n"
   ]
  },
  {
   "cell_type": "markdown",
   "metadata": {},
   "source": [
    "## ANALYSIS"
   ]
  },
  {
   "cell_type": "code",
   "execution_count": 71,
   "metadata": {
    "scrolled": true
   },
   "outputs": [
    {
     "name": "stdout",
     "output_type": "stream",
     "text": [
      "classification report Norm:\n",
      "               precision    recall  f1-score   support\n",
      "\n",
      "           0       0.94      0.85      0.89       128\n",
      "           1       0.76      0.90      0.82        67\n",
      "\n",
      "    accuracy                           0.87       195\n",
      "   macro avg       0.85      0.87      0.86       195\n",
      "weighted avg       0.88      0.87      0.87       195\n",
      "\n",
      "classification report Signal:\n",
      "               precision    recall  f1-score   support\n",
      "\n",
      "           0       0.94      1.00      0.97       155\n",
      "           1       1.00      0.75      0.86        40\n",
      "\n",
      "    accuracy                           0.95       195\n",
      "   macro avg       0.97      0.88      0.91       195\n",
      "weighted avg       0.95      0.95      0.95       195\n",
      "\n",
      "classification report Turn:\n",
      "               precision    recall  f1-score   support\n",
      "\n",
      "           0       0.59      0.82      0.69       123\n",
      "           1       0.08      0.03      0.04        72\n",
      "\n",
      "    accuracy                           0.53       195\n",
      "   macro avg       0.34      0.42      0.36       195\n",
      "weighted avg       0.40      0.53      0.45       195\n",
      "\n",
      "classification report Bus-Stop\n",
      ":               precision    recall  f1-score   support\n",
      "\n",
      "           0       0.83      0.61      0.70       171\n",
      "           1       0.03      0.08      0.04        24\n",
      "\n",
      "    accuracy                           0.54       195\n",
      "   macro avg       0.43      0.35      0.37       195\n",
      "weighted avg       0.73      0.54      0.62       195\n",
      "\n",
      "classification report Congestion\n",
      ":               precision    recall  f1-score   support\n",
      "\n",
      "           0       0.98      0.98      0.98       177\n",
      "           1       0.78      0.78      0.78        18\n",
      "\n",
      "    accuracy                           0.96       195\n",
      "   macro avg       0.88      0.88      0.88       195\n",
      "weighted avg       0.96      0.96      0.96       195\n",
      "\n"
     ]
    }
   ],
   "source": [
    "pred=sess.run(y_pred_class,feed_dict={X:x_test,mode:False})\n",
    "print(\"classification report Norm:\\n\",classification_report(Y_test[:,0],pred[:,0]))\n",
    "print(\"classification report Signal:\\n\",classification_report(Y_test[:,1],pred[:,1]))\n",
    "print(\"classification report Turn:\\n\",classification_report(Y_test[:,2],pred[:,2]))\n",
    "print(\"classification report Bus-Stop\\n:\",classification_report(Y_test[:,3],pred[:,3]))\n",
    "print(\"classification report Congestion\\n:\",classification_report(Y_test[:,4],pred[:,4]))"
   ]
  },
  {
   "cell_type": "markdown",
   "metadata": {},
   "source": [
    "# TIMELEVEL 4"
   ]
  },
  {
   "cell_type": "code",
   "execution_count": 72,
   "metadata": {},
   "outputs": [],
   "source": [
    "df=pd.read_csv(\"features_embedded.csv\")\n",
    "\n",
    "df['norm_road']=df[['Signal', 'bus_stop', 'Turn','Congestion']].apply(lambda e: 1 if e[0]==e[1]==e[2]==e[3]==0 else 0,axis=1)"
   ]
  },
  {
   "cell_type": "code",
   "execution_count": 73,
   "metadata": {},
   "outputs": [],
   "source": [
    "y_test=df[['norm_road','Signal', 'Turn','bus_stop','Congestion']].values\n",
    "X_test=df[['next_stop_distance','total_waiting_time','wifi_count','honks','rsi','zone_highway','zone_market_place','zone_normal_city','time_level_1','time_level_2','time_level_3','time_level_4','Population_density_dense','Population_density_medium','Population_density_sparse','Weekend/day_Week-day','Weekend/day_Week-end']].values"
   ]
  },
  {
   "cell_type": "code",
   "execution_count": 74,
   "metadata": {},
   "outputs": [],
   "source": [
    "ind=['next_stop_distance','total_waiting_time','wifi_count','honks','rsi','zone_highway','zone_market_place','zone_normal_city','time_level_1','time_level_2','time_level_3','time_level_4','Population_density_dense','Population_density_medium','Population_density_sparse','Weekend/day_Week-day','Weekend/day_Week-end']\n"
   ]
  },
  {
   "cell_type": "code",
   "execution_count": 75,
   "metadata": {},
   "outputs": [],
   "source": [
    "ind_y=['norm_road','Signal', 'bus_stop', 'Turn','Congestion']"
   ]
  },
  {
   "cell_type": "code",
   "execution_count": 76,
   "metadata": {},
   "outputs": [],
   "source": [
    "X_test_temp=pd.DataFrame(X_test,columns=ind)"
   ]
  },
  {
   "cell_type": "code",
   "execution_count": 77,
   "metadata": {},
   "outputs": [],
   "source": [
    "Y_test_temp=pd.DataFrame(y_test,columns=ind_y)"
   ]
  },
  {
   "cell_type": "code",
   "execution_count": 78,
   "metadata": {},
   "outputs": [],
   "source": [
    "X_test_temp=pd.concat([Y_test_temp,X_test_temp],axis=1)"
   ]
  },
  {
   "cell_type": "code",
   "execution_count": 79,
   "metadata": {},
   "outputs": [],
   "source": [
    "X_test_temp=X_test_temp[X_test_temp.time_level_4==1]"
   ]
  },
  {
   "cell_type": "code",
   "execution_count": 80,
   "metadata": {},
   "outputs": [
    {
     "data": {
      "text/plain": [
       "(964, 22)"
      ]
     },
     "execution_count": 80,
     "metadata": {},
     "output_type": "execute_result"
    }
   ],
   "source": [
    "X_test_temp.shape"
   ]
  },
  {
   "cell_type": "code",
   "execution_count": 81,
   "metadata": {},
   "outputs": [],
   "source": [
    "Y_test=X_test_temp[['norm_road','Signal', 'Turn','bus_stop','Congestion']].values\n",
    "features=X_test_temp.drop(columns=['norm_road','Signal', 'bus_stop', 'Turn','Congestion'])"
   ]
  },
  {
   "cell_type": "code",
   "execution_count": 82,
   "metadata": {},
   "outputs": [],
   "source": [
    "x_test=X_test_temp[ind].values"
   ]
  },
  {
   "cell_type": "code",
   "execution_count": 83,
   "metadata": {},
   "outputs": [],
   "source": [
    "x_test=s.transform(x_test)"
   ]
  },
  {
   "cell_type": "markdown",
   "metadata": {},
   "source": [
    "## Testing "
   ]
  },
  {
   "cell_type": "code",
   "execution_count": 84,
   "metadata": {},
   "outputs": [
    {
     "name": "stdout",
     "output_type": "stream",
     "text": [
      "Overall acc: 0.7813278\n",
      "Normal Road acc: 0.8931535269709544\n",
      "Signal acc: 0.9336099585062241\n",
      "Turn acc: 0.58298755186722\n",
      "Bus stop acc: 0.5819502074688797\n"
     ]
    }
   ],
   "source": [
    "print(\"Overall acc:\",sess.run(accuracy,feed_dict={X:x_test,Y:Y_test,mode:False}))\n",
    "pred=sess.run(y_pred_class,feed_dict={X:x_test,mode:False})\n",
    "\n",
    "print(\"Normal Road acc:\",(pred[:,0]==Y_test[:,0]).mean())\n",
    "\n",
    "print(\"Signal acc:\",(pred[:,1]==Y_test[:,1]).mean())\n",
    "\n",
    "print(\"Turn acc:\",(pred[:,2]==Y_test[:,2]).mean())\n",
    "\n",
    "print(\"Bus stop acc:\",(pred[:,3]==Y_test[:,3]).mean())\n",
    "\n",
    "\n"
   ]
  },
  {
   "cell_type": "markdown",
   "metadata": {},
   "source": [
    "## ANALYSIS"
   ]
  },
  {
   "cell_type": "code",
   "execution_count": 85,
   "metadata": {},
   "outputs": [
    {
     "name": "stdout",
     "output_type": "stream",
     "text": [
      "classification report Norm:\n",
      "               precision    recall  f1-score   support\n",
      "\n",
      "           0       0.96      0.88      0.92       653\n",
      "           1       0.79      0.92      0.85       311\n",
      "\n",
      "    accuracy                           0.89       964\n",
      "   macro avg       0.87      0.90      0.88       964\n",
      "weighted avg       0.90      0.89      0.90       964\n",
      "\n",
      "classification report Signal:\n",
      "               precision    recall  f1-score   support\n",
      "\n",
      "           0       0.94      0.98      0.96       764\n",
      "           1       0.90      0.77      0.83       200\n",
      "\n",
      "    accuracy                           0.93       964\n",
      "   macro avg       0.92      0.87      0.89       964\n",
      "weighted avg       0.93      0.93      0.93       964\n",
      "\n",
      "classification report Turn:\n",
      "               precision    recall  f1-score   support\n",
      "\n",
      "           0       0.63      0.86      0.73       617\n",
      "           1       0.26      0.09      0.13       347\n",
      "\n",
      "    accuracy                           0.58       964\n",
      "   macro avg       0.44      0.47      0.43       964\n",
      "weighted avg       0.49      0.58      0.51       964\n",
      "\n",
      "classification report Bus-Stop\n",
      ":               precision    recall  f1-score   support\n",
      "\n",
      "           0       0.81      0.65      0.72       806\n",
      "           1       0.12      0.24      0.16       158\n",
      "\n",
      "    accuracy                           0.58       964\n",
      "   macro avg       0.47      0.44      0.44       964\n",
      "weighted avg       0.70      0.58      0.63       964\n",
      "\n",
      "classification report Congestion\n",
      ":               precision    recall  f1-score   support\n",
      "\n",
      "           0       0.91      0.99      0.95       780\n",
      "           1       0.92      0.61      0.73       184\n",
      "\n",
      "    accuracy                           0.91       964\n",
      "   macro avg       0.92      0.80      0.84       964\n",
      "weighted avg       0.92      0.91      0.91       964\n",
      "\n"
     ]
    }
   ],
   "source": [
    "pred=sess.run(y_pred_class,feed_dict={X:x_test,mode:False})\n",
    "print(\"classification report Norm:\\n\",classification_report(Y_test[:,0],pred[:,0]))\n",
    "print(\"classification report Signal:\\n\",classification_report(Y_test[:,1],pred[:,1]))\n",
    "print(\"classification report Turn:\\n\",classification_report(Y_test[:,2],pred[:,2]))\n",
    "print(\"classification report Bus-Stop\\n:\",classification_report(Y_test[:,3],pred[:,3]))\n",
    "print(\"classification report Congestion\\n:\",classification_report(Y_test[:,4],pred[:,4]))"
   ]
  },
  {
   "cell_type": "markdown",
   "metadata": {},
   "source": [
    "# ZONE"
   ]
  },
  {
   "cell_type": "markdown",
   "metadata": {},
   "source": [
    "# Zone_Class_Market"
   ]
  },
  {
   "cell_type": "code",
   "execution_count": 86,
   "metadata": {},
   "outputs": [],
   "source": [
    "df=pd.read_csv(\"features_embedded.csv\")\n",
    "\n",
    "df['norm_road']=df[['Signal', 'bus_stop', 'Turn','Congestion']].apply(lambda e: 1 if e[0]==e[1]==e[2]==e[3]==0 else 0,axis=1)"
   ]
  },
  {
   "cell_type": "code",
   "execution_count": 87,
   "metadata": {},
   "outputs": [],
   "source": [
    "y_test=df[['norm_road','Signal', 'Turn','bus_stop','Congestion']].values\n",
    "X_test=df[['next_stop_distance','total_waiting_time','wifi_count','honks','rsi','zone_highway','zone_market_place','zone_normal_city','time_level_1','time_level_2','time_level_3','time_level_4','Population_density_dense','Population_density_medium','Population_density_sparse','Weekend/day_Week-day','Weekend/day_Week-end']].values"
   ]
  },
  {
   "cell_type": "code",
   "execution_count": 88,
   "metadata": {},
   "outputs": [],
   "source": [
    "ind=['next_stop_distance','total_waiting_time','wifi_count','honks','rsi','zone_highway','zone_market_place','zone_normal_city','time_level_1','time_level_2','time_level_3','time_level_4','Population_density_dense','Population_density_medium','Population_density_sparse','Weekend/day_Week-day','Weekend/day_Week-end']\n"
   ]
  },
  {
   "cell_type": "code",
   "execution_count": 89,
   "metadata": {},
   "outputs": [],
   "source": [
    "ind_y=['norm_road','Signal', 'bus_stop', 'Turn','Congestion']"
   ]
  },
  {
   "cell_type": "code",
   "execution_count": 90,
   "metadata": {},
   "outputs": [],
   "source": [
    "X_test_temp=pd.DataFrame(X_test,columns=ind)"
   ]
  },
  {
   "cell_type": "code",
   "execution_count": 91,
   "metadata": {},
   "outputs": [],
   "source": [
    "Y_test_temp=pd.DataFrame(y_test,columns=ind_y)"
   ]
  },
  {
   "cell_type": "code",
   "execution_count": 92,
   "metadata": {},
   "outputs": [],
   "source": [
    "X_test_temp=pd.concat([Y_test_temp,X_test_temp],axis=1)"
   ]
  },
  {
   "cell_type": "code",
   "execution_count": 93,
   "metadata": {},
   "outputs": [],
   "source": [
    "X_test_temp=X_test_temp[X_test_temp.zone_market_place==1]"
   ]
  },
  {
   "cell_type": "code",
   "execution_count": 94,
   "metadata": {},
   "outputs": [
    {
     "data": {
      "text/plain": [
       "(221, 22)"
      ]
     },
     "execution_count": 94,
     "metadata": {},
     "output_type": "execute_result"
    }
   ],
   "source": [
    "X_test_temp.shape"
   ]
  },
  {
   "cell_type": "code",
   "execution_count": 95,
   "metadata": {},
   "outputs": [],
   "source": [
    "Y_test=X_test_temp[['norm_road','Signal', 'Turn','bus_stop','Congestion']].values\n",
    "features=X_test_temp.drop(columns=['norm_road','Signal', 'bus_stop', 'Turn','Congestion'])"
   ]
  },
  {
   "cell_type": "code",
   "execution_count": 96,
   "metadata": {},
   "outputs": [],
   "source": [
    "x_test=X_test_temp[ind].values"
   ]
  },
  {
   "cell_type": "code",
   "execution_count": 97,
   "metadata": {},
   "outputs": [],
   "source": [
    "x_test=s.transform(x_test)"
   ]
  },
  {
   "cell_type": "markdown",
   "metadata": {},
   "source": [
    "## TESTING "
   ]
  },
  {
   "cell_type": "code",
   "execution_count": 98,
   "metadata": {},
   "outputs": [
    {
     "name": "stdout",
     "output_type": "stream",
     "text": [
      "Overall acc: 0.7565611\n",
      "Normal Road acc: 0.8778280542986425\n",
      "Signal acc: 1.0\n",
      "Turn acc: 0.45248868778280543\n",
      "Bus stop acc: 0.45248868778280543\n",
      "Congestion acc: 1.0\n"
     ]
    }
   ],
   "source": [
    "print(\"Overall acc:\",sess.run(accuracy,feed_dict={X:x_test,Y:Y_test,mode:False}))\n",
    "pred=sess.run(y_pred_class,feed_dict={X:x_test,mode:False})\n",
    "\n",
    "print(\"Normal Road acc:\",(pred[:,0]==Y_test[:,0]).mean())\n",
    "\n",
    "print(\"Signal acc:\",(pred[:,1]==Y_test[:,1]).mean())\n",
    "\n",
    "print(\"Turn acc:\",(pred[:,2]==Y_test[:,2]).mean())\n",
    "\n",
    "print(\"Bus stop acc:\",(pred[:,3]==Y_test[:,3]).mean())\n",
    "\n",
    "print(\"Congestion acc:\",(pred[:,4]==Y_test[:,4]).mean())\n",
    "\n"
   ]
  },
  {
   "cell_type": "markdown",
   "metadata": {},
   "source": [
    "## ANALYSIS"
   ]
  },
  {
   "cell_type": "code",
   "execution_count": 99,
   "metadata": {},
   "outputs": [
    {
     "name": "stdout",
     "output_type": "stream",
     "text": [
      "classification report Norm:\n",
      "               precision    recall  f1-score   support\n",
      "\n",
      "           0       0.93      0.87      0.90       134\n",
      "           1       0.81      0.90      0.85        87\n",
      "\n",
      "    accuracy                           0.88       221\n",
      "   macro avg       0.87      0.88      0.87       221\n",
      "weighted avg       0.88      0.88      0.88       221\n",
      "\n",
      "classification report Signal:\n",
      "               precision    recall  f1-score   support\n",
      "\n",
      "           0       1.00      1.00      1.00       221\n",
      "\n",
      "    accuracy                           1.00       221\n",
      "   macro avg       1.00      1.00      1.00       221\n",
      "weighted avg       1.00      1.00      1.00       221\n",
      "\n",
      "classification report Turn:\n",
      "               precision    recall  f1-score   support\n",
      "\n",
      "           0       0.65      0.59      0.62       167\n",
      "           1       0.03      0.04      0.03        54\n",
      "\n",
      "    accuracy                           0.45       221\n",
      "   macro avg       0.34      0.31      0.33       221\n",
      "weighted avg       0.50      0.45      0.48       221\n",
      "\n",
      "classification report Bus-Stop\n",
      ":               precision    recall  f1-score   support\n",
      "\n",
      "           0       0.54      0.68      0.61       136\n",
      "           1       0.14      0.08      0.10        85\n",
      "\n",
      "    accuracy                           0.45       221\n",
      "   macro avg       0.34      0.38      0.35       221\n",
      "weighted avg       0.39      0.45      0.41       221\n",
      "\n",
      "classification report Congestion\n",
      ":               precision    recall  f1-score   support\n",
      "\n",
      "           0       1.00      1.00      1.00       221\n",
      "\n",
      "    accuracy                           1.00       221\n",
      "   macro avg       1.00      1.00      1.00       221\n",
      "weighted avg       1.00      1.00      1.00       221\n",
      "\n"
     ]
    }
   ],
   "source": [
    "pred=sess.run(y_pred_class,feed_dict={X:x_test,mode:False})\n",
    "print(\"classification report Norm:\\n\",classification_report(Y_test[:,0],pred[:,0]))\n",
    "print(\"classification report Signal:\\n\",classification_report(Y_test[:,1],pred[:,1]))\n",
    "print(\"classification report Turn:\\n\",classification_report(Y_test[:,2],pred[:,2]))\n",
    "print(\"classification report Bus-Stop\\n:\",classification_report(Y_test[:,3],pred[:,3]))\n",
    "print(\"classification report Congestion\\n:\",classification_report(Y_test[:,4],pred[:,4]))"
   ]
  },
  {
   "cell_type": "markdown",
   "metadata": {},
   "source": [
    "# ZONE_HIGHWAY"
   ]
  },
  {
   "cell_type": "code",
   "execution_count": 100,
   "metadata": {},
   "outputs": [],
   "source": [
    "df=pd.read_csv(\"features_embedded.csv\")\n",
    "\n",
    "df['norm_road']=df[['Signal', 'bus_stop', 'Turn','Congestion']].apply(lambda e: 1 if e[0]==e[1]==e[2]==e[3]==0 else 0,axis=1)"
   ]
  },
  {
   "cell_type": "code",
   "execution_count": 101,
   "metadata": {},
   "outputs": [],
   "source": [
    "y_test=df[['norm_road','Signal', 'Turn','bus_stop','Congestion']].values\n",
    "X_test=df[['next_stop_distance','total_waiting_time','wifi_count','honks','rsi','zone_highway','zone_market_place','zone_normal_city','time_level_1','time_level_2','time_level_3','time_level_4','Population_density_dense','Population_density_medium','Population_density_sparse','Weekend/day_Week-day','Weekend/day_Week-end']].values"
   ]
  },
  {
   "cell_type": "code",
   "execution_count": 102,
   "metadata": {},
   "outputs": [],
   "source": [
    "ind=['next_stop_distance','total_waiting_time','wifi_count','honks','rsi','zone_highway','zone_market_place','zone_normal_city','time_level_1','time_level_2','time_level_3','time_level_4','Population_density_dense','Population_density_medium','Population_density_sparse','Weekend/day_Week-day','Weekend/day_Week-end']\n"
   ]
  },
  {
   "cell_type": "code",
   "execution_count": 103,
   "metadata": {},
   "outputs": [],
   "source": [
    "ind_y=['norm_road','Signal', 'bus_stop', 'Turn','Congestion']"
   ]
  },
  {
   "cell_type": "code",
   "execution_count": 104,
   "metadata": {},
   "outputs": [],
   "source": [
    "X_test_temp=pd.DataFrame(X_test,columns=ind)"
   ]
  },
  {
   "cell_type": "code",
   "execution_count": 105,
   "metadata": {},
   "outputs": [],
   "source": [
    "Y_test_temp=pd.DataFrame(y_test,columns=ind_y)"
   ]
  },
  {
   "cell_type": "code",
   "execution_count": 106,
   "metadata": {},
   "outputs": [],
   "source": [
    "X_test_temp=pd.concat([Y_test_temp,X_test_temp],axis=1)"
   ]
  },
  {
   "cell_type": "code",
   "execution_count": 107,
   "metadata": {},
   "outputs": [],
   "source": [
    "X_test_temp=X_test_temp[X_test_temp.zone_highway==1]"
   ]
  },
  {
   "cell_type": "code",
   "execution_count": 108,
   "metadata": {},
   "outputs": [
    {
     "data": {
      "text/plain": [
       "(382, 22)"
      ]
     },
     "execution_count": 108,
     "metadata": {},
     "output_type": "execute_result"
    }
   ],
   "source": [
    "X_test_temp.shape"
   ]
  },
  {
   "cell_type": "code",
   "execution_count": 109,
   "metadata": {},
   "outputs": [],
   "source": [
    "Y_test=X_test_temp[['norm_road','Signal', 'Turn','bus_stop','Congestion']].values\n",
    "features=X_test_temp.drop(columns=['norm_road','Signal', 'bus_stop', 'Turn','Congestion'])"
   ]
  },
  {
   "cell_type": "code",
   "execution_count": 110,
   "metadata": {},
   "outputs": [],
   "source": [
    "x_test=X_test_temp[ind].values"
   ]
  },
  {
   "cell_type": "code",
   "execution_count": 111,
   "metadata": {},
   "outputs": [],
   "source": [
    "x_test=s.transform(x_test)"
   ]
  },
  {
   "cell_type": "markdown",
   "metadata": {},
   "source": [
    "## TESTING "
   ]
  },
  {
   "cell_type": "code",
   "execution_count": 112,
   "metadata": {},
   "outputs": [
    {
     "name": "stdout",
     "output_type": "stream",
     "text": [
      "Overall acc: 0.77853405\n",
      "Normal Road acc: 0.9267015706806283\n",
      "Signal acc: 0.9136125654450262\n",
      "Turn acc: 0.6230366492146597\n",
      "Bus stop acc: 0.581151832460733\n",
      "Congestion acc: 0.8481675392670157\n"
     ]
    }
   ],
   "source": [
    "print(\"Overall acc:\",sess.run(accuracy,feed_dict={X:x_test,Y:Y_test,mode:False}))\n",
    "pred=sess.run(y_pred_class,feed_dict={X:x_test,mode:False})\n",
    "\n",
    "print(\"Normal Road acc:\",(pred[:,0]==Y_test[:,0]).mean())\n",
    "\n",
    "print(\"Signal acc:\",(pred[:,1]==Y_test[:,1]).mean())\n",
    "\n",
    "print(\"Turn acc:\",(pred[:,2]==Y_test[:,2]).mean())\n",
    "\n",
    "print(\"Bus stop acc:\",(pred[:,3]==Y_test[:,3]).mean())\n",
    "\n",
    "print(\"Congestion acc:\",(pred[:,4]==Y_test[:,4]).mean())\n"
   ]
  },
  {
   "cell_type": "markdown",
   "metadata": {},
   "source": [
    "## ANALYSIS"
   ]
  },
  {
   "cell_type": "code",
   "execution_count": 113,
   "metadata": {},
   "outputs": [
    {
     "name": "stdout",
     "output_type": "stream",
     "text": [
      "classification report Norm:\n",
      "               precision    recall  f1-score   support\n",
      "\n",
      "           0       0.96      0.94      0.95       287\n",
      "           1       0.83      0.88      0.86        95\n",
      "\n",
      "    accuracy                           0.93       382\n",
      "   macro avg       0.90      0.91      0.90       382\n",
      "weighted avg       0.93      0.93      0.93       382\n",
      "\n",
      "classification report Signal:\n",
      "               precision    recall  f1-score   support\n",
      "\n",
      "           0       0.93      0.94      0.94       261\n",
      "           1       0.87      0.85      0.86       121\n",
      "\n",
      "    accuracy                           0.91       382\n",
      "   macro avg       0.90      0.90      0.90       382\n",
      "weighted avg       0.91      0.91      0.91       382\n",
      "\n",
      "classification report Turn:\n",
      "               precision    recall  f1-score   support\n",
      "\n",
      "           0       0.68      0.87      0.77       271\n",
      "           1       0.05      0.02      0.03       111\n",
      "\n",
      "    accuracy                           0.62       382\n",
      "   macro avg       0.37      0.44      0.40       382\n",
      "weighted avg       0.50      0.62      0.55       382\n",
      "\n",
      "classification report Bus-Stop\n",
      ":               precision    recall  f1-score   support\n",
      "\n",
      "           0       0.80      0.67      0.73       322\n",
      "           1       0.05      0.10      0.07        60\n",
      "\n",
      "    accuracy                           0.58       382\n",
      "   macro avg       0.43      0.39      0.40       382\n",
      "weighted avg       0.68      0.58      0.63       382\n",
      "\n",
      "classification report Congestion\n",
      ":               precision    recall  f1-score   support\n",
      "\n",
      "           0       0.81      0.95      0.88       216\n",
      "           1       0.92      0.72      0.80       166\n",
      "\n",
      "    accuracy                           0.85       382\n",
      "   macro avg       0.86      0.83      0.84       382\n",
      "weighted avg       0.86      0.85      0.84       382\n",
      "\n"
     ]
    }
   ],
   "source": [
    "pred=sess.run(y_pred_class,feed_dict={X:x_test,mode:False})\n",
    "print(\"classification report Norm:\\n\",classification_report(Y_test[:,0],pred[:,0]))\n",
    "print(\"classification report Signal:\\n\",classification_report(Y_test[:,1],pred[:,1]))\n",
    "print(\"classification report Turn:\\n\",classification_report(Y_test[:,2],pred[:,2]))\n",
    "print(\"classification report Bus-Stop\\n:\",classification_report(Y_test[:,3],pred[:,3]))\n",
    "print(\"classification report Congestion\\n:\",classification_report(Y_test[:,4],pred[:,4]))"
   ]
  },
  {
   "cell_type": "markdown",
   "metadata": {},
   "source": [
    "# ZONE_NORMAL_CITY"
   ]
  },
  {
   "cell_type": "code",
   "execution_count": 118,
   "metadata": {},
   "outputs": [],
   "source": [
    "df=pd.read_csv(\"features_embedded.csv\")\n",
    "\n",
    "df['norm_road']=df[['Signal', 'bus_stop', 'Turn','Congestion']].apply(lambda e: 1 if e[0]==e[1]==e[2]==e[3]==0 else 0,axis=1)"
   ]
  },
  {
   "cell_type": "code",
   "execution_count": 119,
   "metadata": {},
   "outputs": [],
   "source": [
    "y_test=df[['norm_road','Signal', 'Turn','bus_stop','Congestion']].values\n",
    "X_test=df[['next_stop_distance','total_waiting_time','wifi_count','honks','rsi','zone_highway','zone_market_place','zone_normal_city','time_level_1','time_level_2','time_level_3','time_level_4','Population_density_dense','Population_density_medium','Population_density_sparse','Weekend/day_Week-day','Weekend/day_Week-end']].values"
   ]
  },
  {
   "cell_type": "code",
   "execution_count": 120,
   "metadata": {},
   "outputs": [],
   "source": [
    "ind=['next_stop_distance','total_waiting_time','wifi_count','honks','rsi','zone_highway','zone_market_place','zone_normal_city','time_level_1','time_level_2','time_level_3','time_level_4','Population_density_dense','Population_density_medium','Population_density_sparse','Weekend/day_Week-day','Weekend/day_Week-end']\n"
   ]
  },
  {
   "cell_type": "code",
   "execution_count": 121,
   "metadata": {},
   "outputs": [],
   "source": [
    "ind_y=['norm_road','Signal', 'bus_stop', 'Turn','Congestion']"
   ]
  },
  {
   "cell_type": "code",
   "execution_count": 122,
   "metadata": {},
   "outputs": [],
   "source": [
    "X_test_temp=pd.DataFrame(X_test,columns=ind)"
   ]
  },
  {
   "cell_type": "code",
   "execution_count": 123,
   "metadata": {},
   "outputs": [],
   "source": [
    "Y_test_temp=pd.DataFrame(y_test,columns=ind_y)"
   ]
  },
  {
   "cell_type": "code",
   "execution_count": 124,
   "metadata": {},
   "outputs": [],
   "source": [
    "X_test_temp=pd.concat([Y_test_temp,X_test_temp],axis=1)"
   ]
  },
  {
   "cell_type": "code",
   "execution_count": 125,
   "metadata": {},
   "outputs": [],
   "source": [
    "X_test_temp=X_test_temp[X_test_temp.zone_normal_city==1]"
   ]
  },
  {
   "cell_type": "code",
   "execution_count": 126,
   "metadata": {},
   "outputs": [
    {
     "data": {
      "text/plain": [
       "(1079, 22)"
      ]
     },
     "execution_count": 126,
     "metadata": {},
     "output_type": "execute_result"
    }
   ],
   "source": [
    "X_test_temp.shape"
   ]
  },
  {
   "cell_type": "code",
   "execution_count": 127,
   "metadata": {},
   "outputs": [],
   "source": [
    "Y_test=X_test_temp[['norm_road','Signal', 'Turn','bus_stop','Congestion']].values\n",
    "features=X_test_temp.drop(columns=['norm_road','Signal', 'bus_stop', 'Turn','Congestion'])"
   ]
  },
  {
   "cell_type": "code",
   "execution_count": 128,
   "metadata": {},
   "outputs": [],
   "source": [
    "x_test=X_test_temp[ind].values"
   ]
  },
  {
   "cell_type": "code",
   "execution_count": 129,
   "metadata": {},
   "outputs": [],
   "source": [
    "x_test=s.transform(x_test)"
   ]
  },
  {
   "cell_type": "markdown",
   "metadata": {},
   "source": [
    "## TESTING "
   ]
  },
  {
   "cell_type": "code",
   "execution_count": 130,
   "metadata": {},
   "outputs": [
    {
     "name": "stdout",
     "output_type": "stream",
     "text": [
      "Overall acc: 0.76886004\n",
      "Normal Road acc: 0.8480074142724745\n",
      "Signal acc: 0.9119555143651529\n",
      "Turn acc: 0.5699721964782206\n",
      "Bus stop acc: 0.5885078776645042\n",
      "Congestion acc: 0.9258572752548656\n"
     ]
    }
   ],
   "source": [
    "print(\"Overall acc:\",sess.run(accuracy,feed_dict={X:x_test,Y:Y_test,mode:False}))\n",
    "pred=sess.run(y_pred_class,feed_dict={X:x_test,mode:False})\n",
    "\n",
    "print(\"Normal Road acc:\",(pred[:,0]==Y_test[:,0]).mean())\n",
    "\n",
    "print(\"Signal acc:\",(pred[:,1]==Y_test[:,1]).mean())\n",
    "\n",
    "print(\"Turn acc:\",(pred[:,2]==Y_test[:,2]).mean())\n",
    "\n",
    "print(\"Bus stop acc:\",(pred[:,3]==Y_test[:,3]).mean())\n",
    "\n",
    "print(\"Congestion acc:\",(pred[:,4]==Y_test[:,4]).mean())\n"
   ]
  },
  {
   "cell_type": "markdown",
   "metadata": {},
   "source": [
    "##  ANALYSIS"
   ]
  },
  {
   "cell_type": "code",
   "execution_count": 131,
   "metadata": {},
   "outputs": [
    {
     "name": "stdout",
     "output_type": "stream",
     "text": [
      "classification report Norm:\n",
      "               precision    recall  f1-score   support\n",
      "\n",
      "           0       0.93      0.83      0.88       707\n",
      "           1       0.73      0.88      0.80       372\n",
      "\n",
      "    accuracy                           0.85      1079\n",
      "   macro avg       0.83      0.85      0.84      1079\n",
      "weighted avg       0.86      0.85      0.85      1079\n",
      "\n",
      "classification report Signal:\n",
      "               precision    recall  f1-score   support\n",
      "\n",
      "           0       0.92      0.97      0.95       860\n",
      "           1       0.86      0.68      0.76       219\n",
      "\n",
      "    accuracy                           0.91      1079\n",
      "   macro avg       0.89      0.83      0.85      1079\n",
      "weighted avg       0.91      0.91      0.91      1079\n",
      "\n",
      "classification report Turn:\n",
      "               precision    recall  f1-score   support\n",
      "\n",
      "           0       0.58      0.93      0.71       622\n",
      "           1       0.46      0.08      0.14       457\n",
      "\n",
      "    accuracy                           0.57      1079\n",
      "   macro avg       0.52      0.51      0.43      1079\n",
      "weighted avg       0.53      0.57      0.47      1079\n",
      "\n",
      "classification report Bus-Stop\n",
      ":               precision    recall  f1-score   support\n",
      "\n",
      "           0       0.89      0.61      0.73       960\n",
      "           1       0.11      0.40      0.18       119\n",
      "\n",
      "    accuracy                           0.59      1079\n",
      "   macro avg       0.50      0.51      0.45      1079\n",
      "weighted avg       0.81      0.59      0.67      1079\n",
      "\n",
      "classification report Congestion\n",
      ":               precision    recall  f1-score   support\n",
      "\n",
      "           0       0.93      0.99      0.96       958\n",
      "           1       0.80      0.45      0.58       121\n",
      "\n",
      "    accuracy                           0.93      1079\n",
      "   macro avg       0.87      0.72      0.77      1079\n",
      "weighted avg       0.92      0.93      0.92      1079\n",
      "\n"
     ]
    }
   ],
   "source": [
    "pred=sess.run(y_pred_class,feed_dict={X:x_test,mode:False})\n",
    "print(\"classification report Norm:\\n\",classification_report(Y_test[:,0],pred[:,0]))\n",
    "print(\"classification report Signal:\\n\",classification_report(Y_test[:,1],pred[:,1]))\n",
    "print(\"classification report Turn:\\n\",classification_report(Y_test[:,2],pred[:,2]))\n",
    "print(\"classification report Bus-Stop\\n:\",classification_report(Y_test[:,3],pred[:,3]))\n",
    "print(\"classification report Congestion\\n:\",classification_report(Y_test[:,4],pred[:,4]))"
   ]
  }
 ],
 "metadata": {
  "kernelspec": {
   "display_name": "Python 3",
   "language": "python",
   "name": "python3"
  },
  "language_info": {
   "codemirror_mode": {
    "name": "ipython",
    "version": 3
   },
   "file_extension": ".py",
   "mimetype": "text/x-python",
   "name": "python",
   "nbconvert_exporter": "python",
   "pygments_lexer": "ipython3",
   "version": "3.6.9"
  }
 },
 "nbformat": 4,
 "nbformat_minor": 2
}
